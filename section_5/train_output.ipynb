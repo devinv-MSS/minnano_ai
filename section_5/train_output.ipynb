{
  "nbformat": 4,
  "nbformat_minor": 0,
  "metadata": {
    "colab": {
      "provenance": [],
      "include_colab_link": true
    },
    "kernelspec": {
      "name": "python3",
      "display_name": "Python 3"
    }
  },
  "cells": [
    {
      "cell_type": "markdown",
      "metadata": {
        "id": "view-in-github",
        "colab_type": "text"
      },
      "source": [
        "<a href=\"https://colab.research.google.com/github/devinv-MSS/minnano_ai/blob/kamawae-udemy/section_5/train_output.ipynb\" target=\"_parent\"><img src=\"https://colab.research.google.com/assets/colab-badge.svg\" alt=\"Open In Colab\"/></a>"
      ]
    },
    {
      "cell_type": "markdown",
      "metadata": {
        "id": "wnqByPA6jQit"
      },
      "source": [
        "# 出力層の学習\n",
        "出力層のパラメータを更新する仕組みをニューラルネットワークに導入し、実際にパラメータが更新されることを確認します。"
      ]
    },
    {
      "cell_type": "code",
      "source": [
        "!pip install icecream"
      ],
      "metadata": {
        "id": "K6liWlMZTB-F",
        "outputId": "5e1849ad-f08a-4d01-9041-33812d019f07",
        "colab": {
          "base_uri": "https://localhost:8080/"
        }
      },
      "execution_count": 1,
      "outputs": [
        {
          "output_type": "stream",
          "name": "stdout",
          "text": [
            "Looking in indexes: https://pypi.org/simple, https://us-python.pkg.dev/colab-wheels/public/simple/\n",
            "Collecting icecream\n",
            "  Downloading icecream-2.1.3-py2.py3-none-any.whl (8.4 kB)\n",
            "Collecting colorama>=0.3.9 (from icecream)\n",
            "  Downloading colorama-0.4.6-py2.py3-none-any.whl (25 kB)\n",
            "Requirement already satisfied: pygments>=2.2.0 in /usr/local/lib/python3.10/dist-packages (from icecream) (2.14.0)\n",
            "Collecting executing>=0.3.1 (from icecream)\n",
            "  Downloading executing-1.2.0-py2.py3-none-any.whl (24 kB)\n",
            "Collecting asttokens>=2.0.1 (from icecream)\n",
            "  Downloading asttokens-2.2.1-py2.py3-none-any.whl (26 kB)\n",
            "Requirement already satisfied: six in /usr/local/lib/python3.10/dist-packages (from asttokens>=2.0.1->icecream) (1.16.0)\n",
            "Installing collected packages: executing, colorama, asttokens, icecream\n",
            "Successfully installed asttokens-2.2.1 colorama-0.4.6 executing-1.2.0 icecream-2.1.3\n"
          ]
        }
      ]
    },
    {
      "cell_type": "code",
      "source": [
        "from icecream import ic"
      ],
      "metadata": {
        "id": "Big78BHzTCAX"
      },
      "execution_count": 2,
      "outputs": []
    },
    {
      "cell_type": "markdown",
      "metadata": {
        "id": "ONf3juW4Q8PA"
      },
      "source": [
        "## ● ニューラルネットワークの復習\n",
        "前回構築したニューラルネットワークを復習します。  \n",
        "以下のコードで実装されるニューラルネットワークは、中間層に2つ、出力層に2つのニューロンを持ちます。  \n",
        "SetosaとVersicolorにIrisの品種を分類しますが、パラメータが調整されていないため、まだ適切に品種を分類することができません。"
      ]
    },
    {
      "cell_type": "code",
      "metadata": {
        "id": "NrAGPSufjKix",
        "outputId": "4db64cb2-b362-4d56-81ea-1f95c2d6f8df",
        "colab": {
          "base_uri": "https://localhost:8080/",
          "height": 472
        }
      },
      "source": [
        "import numpy as np\n",
        "import matplotlib.pyplot as plt\n",
        "from sklearn import datasets\n",
        "\n",
        "iris = datasets.load_iris()\n",
        "iris_data = iris.data\n",
        "sl_data = iris_data[:100, 0].copy() # SetosaとVersicolor、Sepal length: copy()で元データが変更されない\n",
        "sw_data = iris_data[:100, 1].copy() # SetosaとVersicolor、Sepal width\n",
        "\n",
        "# 平均値を0に\n",
        "sl_ave = np.average(sl_data)  # 平均値\n",
        "sl_data -= sl_ave  # 平均値を引く\n",
        "sw_ave = np.average(sw_data)\n",
        "sw_data -= sw_ave\n",
        "\n",
        "# 入力をリストに格納\n",
        "input_data = []\n",
        "for i in range(100):  # iには0から99までが入る\n",
        "    input_data.append([sl_data[i], sw_data[i]])\n",
        "\n",
        "# シグモイド関数\n",
        "def sigmoid(x):\n",
        "    return 1.0 / (1.0 + np.exp(-x))\n",
        "\n",
        "# ニューロン\n",
        "class Neuron:\n",
        "    def __init__(self):  # 初期設定\n",
        "        self.input_sum = 0.0\n",
        "        self.output = 0.0\n",
        "\n",
        "    def set_input(self, inp):\n",
        "        self.input_sum += inp\n",
        "\n",
        "    def get_output(self):\n",
        "        self.output = sigmoid(self.input_sum)\n",
        "        return self.output\n",
        "\n",
        "    def reset(self):\n",
        "        self.input_sum = 0\n",
        "        self.output = 0\n",
        "\n",
        "# ニューラルネットワーク\n",
        "class NeuralNetwork:\n",
        "    def __init__(self):  # 初期設定\n",
        "        # 重み\n",
        "        self.w_im = [[4.0, 4.0], [4.0, 4.0]]  # 入力:2 ニューロン数:2\n",
        "        self.w_mo = [[1.0, -1.0]]  # 入力:2 ニューロン数:1\n",
        "\n",
        "        # バイアス\n",
        "        self.b_m = [2.0, -2.0]  # ニューロン数:2\n",
        "        self.b_o = [-0.5]  # ニューロン数:1\n",
        "\n",
        "        # 各層の宣言\n",
        "        self.input_layer = [0.0, 0.0]\n",
        "        self.middle_layer = [Neuron(), Neuron()]\n",
        "        self.output_layer = [Neuron()]\n",
        "\n",
        "    def commit(self, input_data):  # 実行\n",
        "        # 各層のリセット\n",
        "        self.input_layer[0] = input_data[0]  # 入力層は値を受け取るのみ\n",
        "        self.input_layer[1] = input_data[1]\n",
        "        self.middle_layer[0].reset()\n",
        "        self.middle_layer[1].reset()\n",
        "        self.output_layer[0].reset()\n",
        "\n",
        "        # 入力層→中間層\n",
        "        self.middle_layer[0].set_input(self.input_layer[0] * self.w_im[0][0])\n",
        "        self.middle_layer[0].set_input(self.input_layer[1] * self.w_im[0][1])\n",
        "        self.middle_layer[0].set_input(self.b_m[0])\n",
        "\n",
        "        self.middle_layer[1].set_input(self.input_layer[0] * self.w_im[1][0])\n",
        "        self.middle_layer[1].set_input(self.input_layer[1] * self.w_im[1][1])\n",
        "        self.middle_layer[1].set_input(self.b_m[1])\n",
        "\n",
        "        # 中間層→出力層\n",
        "        self.output_layer[0].set_input(self.middle_layer[0].get_output() * self.w_mo[0][0])\n",
        "        self.output_layer[0].set_input(self.middle_layer[1].get_output() * self.w_mo[0][1])\n",
        "        self.output_layer[0].set_input(self.b_o[0])\n",
        "\n",
        "        return self.output_layer[0].get_output()\n",
        "\n",
        "# ニューラルネットワークのインスタンス\n",
        "neural_network = NeuralNetwork()\n",
        "\n",
        "# 実行\n",
        "st_predicted = [[], []]  # Setosa\n",
        "vc_predicted = [[], []]  # Versicolor\n",
        "for data in input_data:\n",
        "    if neural_network.commit(data) < 0.5:\n",
        "        st_predicted[0].append(data[0]+sl_ave)\n",
        "        st_predicted[1].append(data[1]+sw_ave)\n",
        "    else:\n",
        "        vc_predicted[0].append(data[0]+sl_ave)\n",
        "        vc_predicted[1].append(data[1]+sw_ave)\n",
        "\n",
        "# 分類結果をグラフ表示\n",
        "plt.scatter(st_predicted[0], st_predicted[1], label=\"Setosa\")\n",
        "plt.scatter(vc_predicted[0], vc_predicted[1], label=\"Versicolor\")\n",
        "plt.legend()\n",
        "\n",
        "plt.xlabel(\"Sepal length (cm)\")\n",
        "plt.ylabel(\"Sepal width (cm)\")\n",
        "plt.title(\"Predicted\")\n",
        "plt.show()"
      ],
      "execution_count": 3,
      "outputs": [
        {
          "output_type": "display_data",
          "data": {
            "text/plain": [
              "<Figure size 640x480 with 1 Axes>"
            ],
            "image/png": "[encoded data removed]"
          },
          "metadata": {}
        }
      ]
    },
    {
      "cell_type": "markdown",
      "metadata": {
        "id": "uuSI_VxrSLNm"
      },
      "source": [
        "## ● 出力層のパラメータを更新\n",
        "出力層の重みとバイアスを更新します。  \n",
        "\n",
        "最初に、修正量のベース$\\delta_o$を求めます。   \n",
        "**$\\delta_o$ = (出力 - 正解) × 活性化関数の微分形**  \n",
        "  \n",
        "活性化関数がシグモイド関数の場合、上記は以下の形になります。  \n",
        "**$\\delta_o$ = (出力 - 正解) × 出力 × (1 - 出力)**  \n",
        "  \n",
        "そして、この$\\delta_o$を使って出力層における重みとバイアスの修正量を求めます。  \n",
        "**重みの修正量 = - 学習係数 × $\\delta_o$ × 入力**  \n",
        "**バイアスの修正量 = - 学習係数 × $\\delta_o$**  \n",
        "以下のコードは、これらのこれらの式を使って出力層の各パラメータを1回だけ更新します。  "
      ]
    },
    {
      "cell_type": "code",
      "metadata": {
        "id": "EQOo_wKoNGvm",
        "outputId": "fee0fa4a-d04f-4a09-9490-f2657d8ff1c4",
        "colab": {
          "base_uri": "https://localhost:8080/"
        }
      },
      "source": [
        "import numpy as np\n",
        "import matplotlib.pyplot as plt\n",
        "from sklearn import datasets\n",
        "import random\n",
        "\n",
        "iris = datasets.load_iris()\n",
        "iris_data = iris.data\n",
        "sl_data = iris_data[:100, 0].copy() # SetosaとVersicolor、Sepal length: copy()で元データが変更されない\n",
        "sw_data = iris_data[:100, 1].copy() # SetosaとVersicolor、Sepal width\n",
        "\n",
        "# 平均値を0に\n",
        "sl_ave = np.average(sl_data)  # 平均値\n",
        "sl_data -= sl_ave  # 平均値を引く\n",
        "sw_ave = np.average(sw_data)\n",
        "sw_data -= sw_ave\n",
        "\n",
        "# 入力をリストに格納\n",
        "train_data = []\n",
        "for i in range(100):  # iには0から99までが入る\n",
        "    correct = iris.target[i]\n",
        "    train_data.append([sl_data[i], sw_data[i], correct])\n",
        "\n",
        "# シグモイド関数\n",
        "def sigmoid(x):\n",
        "    return 1.0 / (1.0 + np.exp(-x))\n",
        "\n",
        "# ニューロン\n",
        "class Neuron:\n",
        "    def __init__(self):  # 初期設定\n",
        "        self.input_sum = 0.0\n",
        "        self.output = 0.0\n",
        "\n",
        "    def set_input(self, inp):\n",
        "        self.input_sum += inp\n",
        "\n",
        "    def get_output(self):\n",
        "        self.output = sigmoid(self.input_sum)\n",
        "        return self.output\n",
        "\n",
        "    def reset(self):\n",
        "        self.input_sum = 0\n",
        "        self.output = 0\n",
        "\n",
        "# ニューラルネットワーク\n",
        "class NeuralNetwork:\n",
        "    def __init__(self):  # 初期設定\n",
        "        # 重み\n",
        "        self.w_im = [[4.0, 4.0], [4.0, 4.0]]  # 入力:2 ニューロン数:2\n",
        "        self.w_mo = [[1.0, -1.0]]  # 入力:2 ニューロン数:1\n",
        "\n",
        "        # バイアス\n",
        "        self.b_m = [2.0, -2.0]  # ニューロン数:2\n",
        "        self.b_o = [-0.5]  # ニューロン数:1\n",
        "\n",
        "        # 各層の宣言\n",
        "        self.input_layer = [0.0, 0.0]\n",
        "        self.middle_layer = [Neuron(), Neuron()]\n",
        "        self.output_layer = [Neuron()]\n",
        "\n",
        "    def commit(self, input_data):  # 実行\n",
        "        # 各層のリセット\n",
        "        self.input_layer[0] = input_data[0]  # 入力層は値を受け取るのみ\n",
        "        self.input_layer[1] = input_data[1]\n",
        "        self.middle_layer[0].reset()\n",
        "        self.middle_layer[1].reset()\n",
        "        self.output_layer[0].reset()\n",
        "\n",
        "        # 入力層→中間層\n",
        "        self.middle_layer[0].set_input(self.input_layer[0] * self.w_im[0][0])\n",
        "        self.middle_layer[0].set_input(self.input_layer[1] * self.w_im[0][1])\n",
        "        self.middle_layer[0].set_input(self.b_m[0])\n",
        "\n",
        "        self.middle_layer[1].set_input(self.input_layer[0] * self.w_im[1][0])\n",
        "        self.middle_layer[1].set_input(self.input_layer[1] * self.w_im[1][1])\n",
        "        self.middle_layer[1].set_input(self.b_m[1])\n",
        "\n",
        "        # 中間層→出力層\n",
        "        self.output_layer[0].set_input(self.middle_layer[0].get_output() * self.w_mo[0][0])\n",
        "        self.output_layer[0].set_input(self.middle_layer[1].get_output() * self.w_mo[0][1])\n",
        "        self.output_layer[0].set_input(self.b_o[0])\n",
        "\n",
        "        return self.output_layer[0].get_output()\n",
        "\n",
        "    def train(self, correct):\n",
        "        # 学習係数\n",
        "        k = 0.3\n",
        "\n",
        "        #  出力\n",
        "        output_o = self.output_layer[0].output\n",
        "        output_m0 = self.middle_layer[0].output\n",
        "        output_m1 = self.middle_layer[1].output\n",
        "\n",
        "        # δ\n",
        "        delta_o = (output_o - correct) * output_o * (1.0 - output_o)\n",
        "        ic(delta_o)\n",
        "\n",
        "        # パラメータの更新\n",
        "        self.w_mo[0][0] -= k * delta_o * output_m0\n",
        "        self.w_mo[0][1] -= k * delta_o * output_m1\n",
        "        self.b_o[0] -= k * delta_o\n",
        "\n",
        "\n",
        "# ニューラルネットワークのインスタンス\n",
        "neural_network = NeuralNetwork()\n",
        "\n",
        "# 学習によるパラメータの変化\n",
        "ic(\"-------- Before train --------\")\n",
        "ic(neural_network.w_im)\n",
        "ic(neural_network.w_mo)\n",
        "ic(neural_network.b_m)\n",
        "ic(neural_network.b_o)\n",
        "neural_network.commit(train_data[0][:2])  # 順伝播\n",
        "neural_network.train(train_data[0][2])  # 逆伝播\n",
        "ic(\"-------- After train --------\")\n",
        "ic(neural_network.w_im)\n",
        "ic(neural_network.w_mo)\n",
        "ic(neural_network.b_m)\n",
        "ic(neural_network.b_o)"
      ],
      "execution_count": 5,
      "outputs": [
        {
          "output_type": "stream",
          "name": "stderr",
          "text": [
            "ic| '-------- Before train --------'\n",
            "ic| neural_network.w_im: [[4.0, 4.0], [4.0, 4.0]]\n",
            "ic| neural_network.w_mo: [[1.0, -1.0]]\n",
            "ic| neural_network.b_m: [2.0, -2.0]\n",
            "ic| neural_network.b_o: [-0.5]\n",
            "ic| delta_o: 0.13881892177059005\n",
            "ic| '-------- After train --------'\n",
            "ic| neural_network.w_im: [[4.0, 4.0], [4.0, 4.0]]\n",
            "ic| neural_network.w_mo: [[0.9628174102667754, -1.0055134242038597]]\n",
            "ic| neural_network.b_m: [2.0, -2.0]\n",
            "ic| neural_network.b_o: [-0.541645676531177]\n"
          ]
        },
        {
          "output_type": "execute_result",
          "data": {
            "text/plain": [
              "[-0.541645676531177]"
            ]
          },
          "metadata": {},
          "execution_count": 5
        }
      ]
    },
    {
      "cell_type": "code",
      "metadata": {
        "id": "RhIYLI2A9GXp"
      },
      "source": [
        "# コード練習用\n"
      ],
      "execution_count": null,
      "outputs": []
    }
  ]
}