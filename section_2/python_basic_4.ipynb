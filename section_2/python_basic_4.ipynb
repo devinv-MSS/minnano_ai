{
  "nbformat": 4,
  "nbformat_minor": 0,
  "metadata": {
    "colab": {
      "name": "python_basic_4.ipynb",
      "provenance": [],
      "include_colab_link": true
    },
    "kernelspec": {
      "name": "python3",
      "display_name": "Python 3"
    }
  },
  "cells": [
    {
      "cell_type": "markdown",
      "metadata": {
        "id": "view-in-github",
        "colab_type": "text"
      },
      "source": [
        "<a href=\"https://colab.research.google.com/github/devinv-MSS/minnano_ai/blob/kamawae-udemy/section_2/python_basic_4.ipynb\" target=\"_parent\"><img src=\"https://colab.research.google.com/assets/colab-badge.svg\" alt=\"Open In Colab\"/></a>"
      ]
    },
    {
      "cell_type": "markdown",
      "metadata": {
        "id": "ewg_pUrO-m3m"
      },
      "source": [
        "# Pythonの基礎4\n",
        "Pythonの特殊なメソッドを解説します。  \n",
        "これらを活用することで、より短くて読みやすいコードを記述することが可能になります。"
      ]
    },
    {
      "cell_type": "code",
      "source": [
        "!pip install icecream"
      ],
      "metadata": {
        "id": "7sPT3jFx452Z",
        "outputId": "121ba2f4-34e0-4b76-f606-f0c51afea408",
        "colab": {
          "base_uri": "https://localhost:8080/"
        }
      },
      "execution_count": 1,
      "outputs": [
        {
          "output_type": "stream",
          "name": "stdout",
          "text": [
            "Looking in indexes: https://pypi.org/simple, https://us-python.pkg.dev/colab-wheels/public/simple/\n",
            "Collecting icecream\n",
            "  Downloading icecream-2.1.3-py2.py3-none-any.whl (8.4 kB)\n",
            "Collecting asttokens>=2.0.1\n",
            "  Downloading asttokens-2.2.1-py2.py3-none-any.whl (26 kB)\n",
            "Collecting colorama>=0.3.9\n",
            "  Downloading colorama-0.4.6-py2.py3-none-any.whl (25 kB)\n",
            "Requirement already satisfied: pygments>=2.2.0 in /usr/local/lib/python3.10/dist-packages (from icecream) (2.14.0)\n",
            "Collecting executing>=0.3.1\n",
            "  Downloading executing-1.2.0-py2.py3-none-any.whl (24 kB)\n",
            "Requirement already satisfied: six in /usr/local/lib/python3.10/dist-packages (from asttokens>=2.0.1->icecream) (1.16.0)\n",
            "Installing collected packages: executing, colorama, asttokens, icecream\n",
            "Successfully installed asttokens-2.2.1 colorama-0.4.6 executing-1.2.0 icecream-2.1.3\n"
          ]
        }
      ]
    },
    {
      "cell_type": "code",
      "source": [
        "from icecream import ic"
      ],
      "metadata": {
        "id": "XTdyU7Ah4583"
      },
      "execution_count": 2,
      "outputs": []
    },
    {
      "cell_type": "markdown",
      "metadata": {
        "id": "BxlxFRAm-m3o"
      },
      "source": [
        "## ●`__init__`メソッド\n",
        "**`__init__`**は特殊なメソッドで、イニシャライザ、もしくはコンストラクタと呼ばれています。  \n",
        "このメソッドでは、インスタンスの生成時にインスタンスの初期設定を行うことができます。  \n",
        "以下のクラスでは、`__init__`メソッドでインスタンス変数aの初期設定を行っています。  "
      ]
    },
    {
      "cell_type": "code",
      "metadata": {
        "id": "xftbx6T4-m3p"
      },
      "source": [
        "class Calc:  # Calcクラス\n",
        "    def __init__(self, a):  # __init__メソッド\n",
        "        self.a = a\n",
        "\n",
        "    def add(self, b):  # addメソッド\n",
        "        ic(self.a + b)\n",
        "\n",
        "    def multiply(self, b):  # multiplyメソッド\n",
        "        ic(self.a * b)"
      ],
      "execution_count": 4,
      "outputs": []
    },
    {
      "cell_type": "code",
      "metadata": {
        "id": "wrO8sv-WZHuo"
      },
      "source": [
        "# 練習用\n"
      ],
      "execution_count": null,
      "outputs": []
    },
    {
      "cell_type": "markdown",
      "metadata": {
        "id": "L8xd1JMv-m3s"
      },
      "source": [
        "以下では、インスタンスの生成時に、3という値をインスタンスに渡しています。  \n",
        "この保持された値は、後で計算に利用することができます。  "
      ]
    },
    {
      "cell_type": "code",
      "metadata": {
        "id": "-Tnd7UjE-m3t",
        "outputId": "7c54ed74-d66b-4852-d159-0cc0ec804e75",
        "colab": {
          "base_uri": "https://localhost:8080/"
        }
      },
      "source": [
        "cl = Calc(3)  # インスタンスclを生成\n",
        "cl.add(4)  # 3 + 4\n",
        "cl.multiply(4) # 3 × 4"
      ],
      "execution_count": 5,
      "outputs": [
        {
          "output_type": "stream",
          "name": "stderr",
          "text": [
            "ic| self.a + b: 7\n",
            "ic| self.a * b: 12\n"
          ]
        }
      ]
    },
    {
      "cell_type": "code",
      "metadata": {
        "id": "cAZfsS-vZKeC"
      },
      "source": [
        "# 練習用\n"
      ],
      "execution_count": null,
      "outputs": []
    },
    {
      "cell_type": "markdown",
      "metadata": {
        "id": "jH5DBIKLMpTn"
      },
      "source": [
        "このように、`__init__`メソッドを使えばインスタンスの生成時にインスタンスに値を渡すことができます。  \n",
        "そのため、何度も繰り返して使用したり、複数のメソッドで使う値があれば、`__init__`メソッドで設定するのが効率的になります。"
      ]
    },
    {
      "cell_type": "markdown",
      "metadata": {
        "id": "5iaX234BO1_c"
      },
      "source": [
        "## ●`__call__`メソッド\n",
        "`__call__`メソッドは、インスタンス名を使って呼び出すことができます。  \n",
        "以下では、`Calc`クラスに`__init__`メソッドの他に`__call__`メソッドを実装しています。"
      ]
    },
    {
      "cell_type": "code",
      "metadata": {
        "id": "_7Ct9UGnO1_p"
      },
      "source": [
        "class Calc:  # Calcクラス\n",
        "    def __init__(self, a):  # __init__メソッド\n",
        "        self.a = a\n",
        "\n",
        "    def __call__(self, c):  # __call__メソッド\n",
        "        ic(self.a * c + c)\n",
        "\n",
        "    def add(self, b):  # addメソッド\n",
        "        ic(self.a + b)\n",
        "\n",
        "    def multiply(self, b):  # multiplyメソッド\n",
        "        ic(self.a * b)"
      ],
      "execution_count": 6,
      "outputs": []
    },
    {
      "cell_type": "code",
      "metadata": {
        "id": "8t66JIKtO1_q"
      },
      "source": [
        "# 練習用\n"
      ],
      "execution_count": null,
      "outputs": []
    },
    {
      "cell_type": "markdown",
      "metadata": {
        "id": "zk0O973kRR88"
      },
      "source": [
        "以下では、インスタンスの名`cl`を使って`__call__`メソッドを呼び出しています。  "
      ]
    },
    {
      "cell_type": "code",
      "metadata": {
        "id": "TJnm8GNxRR9I",
        "outputId": "f542c7cd-4982-48de-9244-aba11004d89e",
        "colab": {
          "base_uri": "https://localhost:8080/"
        }
      },
      "source": [
        "cl = Calc(3)  # インスタンスclを生成\n",
        "\n",
        "# インスタンス名clを使って__call__メソッドを呼ぶ\n",
        "cl(5)  # 3 × 5 + 5"
      ],
      "execution_count": 7,
      "outputs": [
        {
          "output_type": "stream",
          "name": "stderr",
          "text": [
            "ic| self.a * c + c: 20\n"
          ]
        }
      ]
    },
    {
      "cell_type": "code",
      "metadata": {
        "id": "JXfHeV4ORR9J"
      },
      "source": [
        "# 練習用\n"
      ],
      "execution_count": null,
      "outputs": []
    },
    {
      "cell_type": "markdown",
      "metadata": {
        "id": "5Vw5ZL6xRR9J"
      },
      "source": [
        "このように、`__call__`メソッドを使えばメソッド名を記述する必要が無くなります。  \n",
        "頻繁に用いる処理を`__call__`メソッドに記述しておくことで、コードの記述量が少なくて済むようになります。"
      ]
    }
  ]
}