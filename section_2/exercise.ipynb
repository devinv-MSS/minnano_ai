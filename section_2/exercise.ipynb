{
  "nbformat": 4,
  "nbformat_minor": 0,
  "metadata": {
    "colab": {
      "name": "exercise.ipynb",
      "provenance": [],
      "include_colab_link": true
    },
    "kernelspec": {
      "name": "python3",
      "display_name": "Python 3"
    }
  },
  "cells": [
    {
      "cell_type": "markdown",
      "metadata": {
        "id": "view-in-github",
        "colab_type": "text"
      },
      "source": [
        "<a href=\"https://colab.research.google.com/github/devinv-MSS/minnano_ai/blob/kamawae-udemy/section_2/exercise.ipynb\" target=\"_parent\"><img src=\"https://colab.research.google.com/assets/colab-badge.svg\" alt=\"Open In Colab\"/></a>"
      ]
    },
    {
      "cell_type": "markdown",
      "metadata": {
        "id": "920wQYwZMtfN"
      },
      "source": [
        "# 演習\n",
        "Pythonのコードを修正し、エラーが発生しないようにしましょう。"
      ]
    },
    {
      "cell_type": "code",
      "source": [
        "!pip install icecream"
      ],
      "metadata": {
        "id": "9YIYEzjw7J5z",
        "outputId": "f51bae1a-238f-4a68-e651-0f31922f9b33",
        "colab": {
          "base_uri": "https://localhost:8080/"
        }
      },
      "execution_count": 1,
      "outputs": [
        {
          "output_type": "stream",
          "name": "stdout",
          "text": [
            "Looking in indexes: https://pypi.org/simple, https://us-python.pkg.dev/colab-wheels/public/simple/\n",
            "Collecting icecream\n",
            "  Downloading icecream-2.1.3-py2.py3-none-any.whl (8.4 kB)\n",
            "Collecting asttokens>=2.0.1\n",
            "  Downloading asttokens-2.2.1-py2.py3-none-any.whl (26 kB)\n",
            "Collecting executing>=0.3.1\n",
            "  Downloading executing-1.2.0-py2.py3-none-any.whl (24 kB)\n",
            "Requirement already satisfied: pygments>=2.2.0 in /usr/local/lib/python3.10/dist-packages (from icecream) (2.14.0)\n",
            "Collecting colorama>=0.3.9\n",
            "  Downloading colorama-0.4.6-py2.py3-none-any.whl (25 kB)\n",
            "Requirement already satisfied: six in /usr/local/lib/python3.10/dist-packages (from asttokens>=2.0.1->icecream) (1.16.0)\n",
            "Installing collected packages: executing, colorama, asttokens, icecream\n",
            "Successfully installed asttokens-2.2.1 colorama-0.4.6 executing-1.2.0 icecream-2.1.3\n"
          ]
        }
      ]
    },
    {
      "cell_type": "code",
      "source": [
        "from icecream import ic"
      ],
      "metadata": {
        "id": "UnWF0ov97J83"
      },
      "execution_count": 2,
      "outputs": []
    },
    {
      "cell_type": "markdown",
      "metadata": {
        "id": "fEbTVQgTM4CU"
      },
      "source": [
        "## 課題1\n",
        "以下の、リストに奇数を格納し表示するコードを実行するとエラーが発生します。  \n",
        "問題箇所を修正し、実行してもエラーが発生しないようにしましょう。"
      ]
    },
    {
      "cell_type": "code",
      "metadata": {
        "id": "RvXWGy1jNE7d",
        "colab": {
          "base_uri": "https://localhost:8080/"
        },
        "outputId": "fcf23423-9493-49a6-ccc2-ff44977f5004"
      },
      "source": [
        "a = []\n",
        "for i in range(0, 10):\n",
        "    if i%2 == 1:\n",
        "        a.append(i)\n",
        "\n",
        "print(a)"
      ],
      "execution_count": 4,
      "outputs": [
        {
          "output_type": "stream",
          "name": "stdout",
          "text": [
            "[1, 3, 5, 7, 9]\n"
          ]
        }
      ]
    },
    {
      "cell_type": "markdown",
      "metadata": {
        "id": "o4TvHUzvOVEG"
      },
      "source": [
        "## 課題2\n",
        "以下の、インスタンスを2つ生成し、リストに格納して表示するコードを実行するとエラーが発生します。  \n",
        "問題箇所を修正し、実行してもエラーが発生しないようにしましょう。  \n",
        "なお、修正箇所は一箇所とは限りません。"
      ]
    },
    {
      "cell_type": "code",
      "metadata": {
        "id": "DVpSTK_gOc5N",
        "colab": {
          "base_uri": "https://localhost:8080/"
        },
        "outputId": "8b85198f-5b2b-4a35-f243-23f332d6916e"
      },
      "source": [
        "class Cat:\n",
        "    def set_cat(self, n, a):\n",
        "        self.name = n\n",
        "        self.age = a\n",
        "        \n",
        "cat1 = Cat()\n",
        "cat1.set_cat(\"Tama\", 4)\n",
        "\n",
        "cat2 = Cat()\n",
        "cat2.set_cat(\"Hana\", 14)\n",
        "\n",
        "cats = [cat1, cat2]  # リストに格納\n",
        "for c in cats:\n",
        "    print(c.name, c.age)"
      ],
      "execution_count": 6,
      "outputs": [
        {
          "output_type": "stream",
          "name": "stdout",
          "text": [
            "Tama 4\n",
            "Hana 14\n"
          ]
        }
      ]
    },
    {
      "cell_type": "markdown",
      "metadata": {
        "id": "o3vxFS_TTNg2"
      },
      "source": [
        "## 解答例\n",
        "以下は解答例です。どうしても手がかりがつかめないときのみ、参考にしましょう。"
      ]
    },
    {
      "cell_type": "code",
      "metadata": {
        "id": "GTBNDFC6TZ7w"
      },
      "source": [
        "a = []\n",
        "for i in range(0, 10):\n",
        "    if i%2 == 1:\n",
        "        a.append(i)\n",
        "\n",
        "print (a)"
      ],
      "execution_count": null,
      "outputs": []
    },
    {
      "cell_type": "code",
      "metadata": {
        "id": "WirKZ5tnTaGJ"
      },
      "source": [
        "class Cat:\n",
        "    def set_cat(self, n, a):\n",
        "        self.name = n\n",
        "        self.age = a\n",
        "        \n",
        "cat1 = Cat()\n",
        "cat1.set_cat(\"Tama\", 4)\n",
        "\n",
        "cat2 = Cat()\n",
        "cat2.set_cat(\"Hana\", 14)\n",
        "\n",
        "cats = [cat1, cat2]  # リストに格納\n",
        "for c in cats:\n",
        "    print(c.name, c.age)"
      ],
      "execution_count": null,
      "outputs": []
    }
  ]
}