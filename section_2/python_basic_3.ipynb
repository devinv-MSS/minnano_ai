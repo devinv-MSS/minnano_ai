{
  "nbformat": 4,
  "nbformat_minor": 0,
  "metadata": {
    "colab": {
      "name": "python_basic_3.ipynb",
      "provenance": [],
      "include_colab_link": true
    },
    "kernelspec": {
      "name": "python3",
      "display_name": "Python 3"
    }
  },
  "cells": [
    {
      "cell_type": "markdown",
      "metadata": {
        "id": "view-in-github",
        "colab_type": "text"
      },
      "source": [
        "<a href=\"https://colab.research.google.com/github/devinv-MSS/minnano_ai/blob/kamawae-udemy/section_2/python_basic_3.ipynb\" target=\"_parent\"><img src=\"https://colab.research.google.com/assets/colab-badge.svg\" alt=\"Open In Colab\"/></a>"
      ]
    },
    {
      "cell_type": "markdown",
      "metadata": {
        "id": "ewg_pUrO-m3m"
      },
      "source": [
        "# Pythonの基礎3\n",
        "関数とクラス、ファイルの保存について解説します。"
      ]
    },
    {
      "cell_type": "code",
      "source": [
        "!pip install icecream"
      ],
      "metadata": {
        "id": "yhroO_Ge0oZP",
        "outputId": "66f77517-d211-4888-cc5c-3706a1bba5fc",
        "colab": {
          "base_uri": "https://localhost:8080/"
        }
      },
      "execution_count": 1,
      "outputs": [
        {
          "output_type": "stream",
          "name": "stdout",
          "text": [
            "Looking in indexes: https://pypi.org/simple, https://us-python.pkg.dev/colab-wheels/public/simple/\n",
            "Collecting icecream\n",
            "  Downloading icecream-2.1.3-py2.py3-none-any.whl (8.4 kB)\n",
            "Collecting asttokens>=2.0.1\n",
            "  Downloading asttokens-2.2.1-py2.py3-none-any.whl (26 kB)\n",
            "Collecting colorama>=0.3.9\n",
            "  Downloading colorama-0.4.6-py2.py3-none-any.whl (25 kB)\n",
            "Requirement already satisfied: pygments>=2.2.0 in /usr/local/lib/python3.10/dist-packages (from icecream) (2.14.0)\n",
            "Collecting executing>=0.3.1\n",
            "  Downloading executing-1.2.0-py2.py3-none-any.whl (24 kB)\n",
            "Requirement already satisfied: six in /usr/local/lib/python3.10/dist-packages (from asttokens>=2.0.1->icecream) (1.16.0)\n",
            "Installing collected packages: executing, colorama, asttokens, icecream\n",
            "Successfully installed asttokens-2.2.1 colorama-0.4.6 executing-1.2.0 icecream-2.1.3\n"
          ]
        }
      ]
    },
    {
      "cell_type": "code",
      "source": [
        "from icecream import ic"
      ],
      "metadata": {
        "id": "Wi4NCxh10oby"
      },
      "execution_count": 2,
      "outputs": []
    },
    {
      "cell_type": "markdown",
      "metadata": {
        "id": "BxlxFRAm-m3o"
      },
      "source": [
        "## ●関数\n",
        "**関数**を用いることで、処理を一括りにして何度も呼び出すことができます。  \n",
        "以下はシンプルな関数の例です。"
      ]
    },
    {
      "cell_type": "code",
      "metadata": {
        "id": "xftbx6T4-m3p",
        "colab": {
          "base_uri": "https://localhost:8080/"
        },
        "outputId": "3592684f-4ac5-4add-e3b1-aa9e44de2456"
      },
      "source": [
        "def say_hello():  # defの後に関数名を記述\n",
        "    print(\"Hello world!\")  # 行頭にインデントを挿入\n",
        "\n",
        "say_hello()  # 関数の呼び出し"
      ],
      "execution_count": 3,
      "outputs": [
        {
          "output_type": "stream",
          "name": "stdout",
          "text": [
            "Hello world!\n"
          ]
        }
      ]
    },
    {
      "cell_type": "code",
      "metadata": {
        "id": "wrO8sv-WZHuo"
      },
      "source": [
        "# 練習用\n"
      ],
      "execution_count": null,
      "outputs": []
    },
    {
      "cell_type": "markdown",
      "metadata": {
        "id": "L8xd1JMv-m3s"
      },
      "source": [
        "一度関数を定義しておけば、あとから何度でも呼び出すことができます。"
      ]
    },
    {
      "cell_type": "code",
      "metadata": {
        "id": "-Tnd7UjE-m3t",
        "colab": {
          "base_uri": "https://localhost:8080/"
        },
        "outputId": "a9207000-f02d-4cab-e8b3-22b0158b0a1d"
      },
      "source": [
        "def say_gm():\n",
        "    print(\"Good morning!\")\n",
        "\n",
        "say_gm()\n",
        "say_gm()\n",
        "say_gm()"
      ],
      "execution_count": 4,
      "outputs": [
        {
          "output_type": "stream",
          "name": "stdout",
          "text": [
            "Good morning!\n",
            "Good morning!\n",
            "Good morning!\n"
          ]
        }
      ]
    },
    {
      "cell_type": "code",
      "metadata": {
        "id": "cAZfsS-vZKeC"
      },
      "source": [
        "# 練習用\n"
      ],
      "execution_count": null,
      "outputs": []
    },
    {
      "cell_type": "markdown",
      "metadata": {
        "id": "MWyBm7xfaQ1T"
      },
      "source": [
        "## ●引数\n",
        "関数は、外部からの値を**引数**として受け取ることができます。  \n",
        "以下は、引数を伴うシンプルな関数です。"
      ]
    },
    {
      "cell_type": "code",
      "metadata": {
        "id": "utV0XhMAafbt",
        "colab": {
          "base_uri": "https://localhost:8080/"
        },
        "outputId": "928a311b-e9b6-40e5-bf91-93e38dd41654"
      },
      "source": [
        "def say_number(a):  # aが引数\n",
        "    ic(a)\n",
        "\n",
        "say_number(123)"
      ],
      "execution_count": 6,
      "outputs": [
        {
          "output_type": "stream",
          "name": "stderr",
          "text": [
            "ic| a: 123\n"
          ]
        }
      ]
    },
    {
      "cell_type": "code",
      "metadata": {
        "id": "RyOkPsNFaR6o"
      },
      "source": [
        "# 練習用\n"
      ],
      "execution_count": null,
      "outputs": []
    },
    {
      "cell_type": "markdown",
      "metadata": {
        "id": "Z_01jL1ZgIXO"
      },
      "source": [
        "関数を呼び出す際に、( ) 内に値を渡すとそれを関数が受け取ります。  \n",
        "  \n",
        "引数が複数の場合は、`,`（カンマ）で区切ります。"
      ]
    },
    {
      "cell_type": "code",
      "metadata": {
        "id": "zPN48d8gfq0Z",
        "colab": {
          "base_uri": "https://localhost:8080/"
        },
        "outputId": "25e4e218-2ce3-4ffe-dfba-969340a79c69"
      },
      "source": [
        "def add(a, b, c):  # 引数は3つ\n",
        "    d = a + b + c\n",
        "    ic(d)\n",
        "\n",
        "add(3, 4, 5)"
      ],
      "execution_count": 7,
      "outputs": [
        {
          "output_type": "stream",
          "name": "stderr",
          "text": [
            "ic| d: 12\n"
          ]
        }
      ]
    },
    {
      "cell_type": "code",
      "metadata": {
        "id": "eq9RMuApiHjv"
      },
      "source": [
        "# 練習用\n"
      ],
      "execution_count": null,
      "outputs": []
    },
    {
      "cell_type": "markdown",
      "metadata": {
        "id": "rmu22GA5hOHQ"
      },
      "source": [
        "## ●返り値\n",
        "**返り値**を用いると、関数から外部に値を渡すことができます。  \n",
        "  \n",
        "以下は、返り値のシンプルな例です。  "
      ]
    },
    {
      "cell_type": "code",
      "metadata": {
        "id": "PuaerkxqhhnY",
        "colab": {
          "base_uri": "https://localhost:8080/"
        },
        "outputId": "595e5605-fafa-41ae-b05d-421055c8a9a3"
      },
      "source": [
        "def get_number():\n",
        "    a = 123\n",
        "    return a  # 返り値\n",
        "\n",
        "b = get_number()\n",
        "ic(get_number())\n",
        "ic(b)"
      ],
      "execution_count": 8,
      "outputs": [
        {
          "output_type": "stream",
          "name": "stderr",
          "text": [
            "ic| get_number(): 123\n",
            "ic| b: 123\n"
          ]
        },
        {
          "output_type": "execute_result",
          "data": {
            "text/plain": [
              "123"
            ]
          },
          "metadata": {},
          "execution_count": 8
        }
      ]
    },
    {
      "cell_type": "code",
      "metadata": {
        "id": "4rKMXPTFmH6S"
      },
      "source": [
        "# 練習用\n"
      ],
      "execution_count": null,
      "outputs": []
    },
    {
      "cell_type": "markdown",
      "metadata": {
        "id": "FwOzg6qyiBSB"
      },
      "source": [
        "関数の内部にreturnを記述すると、その直後の値を関数の外部に渡します。  \n",
        "  \n",
        "以下は、引数と返り値を組み合わせた例です。"
      ]
    },
    {
      "cell_type": "code",
      "metadata": {
        "id": "27VGeUNmifwo",
        "colab": {
          "base_uri": "https://localhost:8080/"
        },
        "outputId": "b0fcbdbb-f520-45fe-e3e5-6822992669de"
      },
      "source": [
        "def add(a, b):\n",
        "    c = a + b\n",
        "    return c\n",
        "\n",
        "result1 = add(3, 4)\n",
        "print(result1)\n",
        "\n",
        "result2 = add(7, 8)\n",
        "print(result2)"
      ],
      "execution_count": 9,
      "outputs": [
        {
          "output_type": "stream",
          "name": "stdout",
          "text": [
            "7\n",
            "15\n"
          ]
        }
      ]
    },
    {
      "cell_type": "code",
      "metadata": {
        "id": "dDfU9UZDmwxg"
      },
      "source": [
        "# 練習用\n"
      ],
      "execution_count": null,
      "outputs": []
    },
    {
      "cell_type": "markdown",
      "metadata": {
        "id": "ERD55Tt-mrqR"
      },
      "source": [
        "以上のような関数を使うことで、コードの再利用が可能になります。"
      ]
    },
    {
      "cell_type": "markdown",
      "metadata": {
        "id": "DtAbWNWw-m3y"
      },
      "source": [
        "## ●変数のスコープ\n",
        "関数内で定義された変数がローカル変数、関数外で定義された変数がグローバル変数です。  "
      ]
    },
    {
      "cell_type": "code",
      "metadata": {
        "id": "3pD2XU7t-m3y",
        "colab": {
          "base_uri": "https://localhost:8080/"
        },
        "outputId": "2a82fa2f-a437-41e8-8fc5-c58826f0dccd"
      },
      "source": [
        "glob_1 = 123  # グローバル変数\n",
        "\n",
        "def show_number():\n",
        "    loc_1 = 456  # ローカル変数\n",
        "    print(glob_1, loc_1)\n",
        "    \n",
        "show_number()"
      ],
      "execution_count": 10,
      "outputs": [
        {
          "output_type": "stream",
          "name": "stdout",
          "text": [
            "123 456\n"
          ]
        }
      ]
    },
    {
      "cell_type": "code",
      "metadata": {
        "id": "39Zt6NeVtHiK"
      },
      "source": [
        "# 練習用\n"
      ],
      "execution_count": null,
      "outputs": []
    },
    {
      "cell_type": "markdown",
      "metadata": {
        "id": "j4BL7N5d-m30"
      },
      "source": [
        "ローカル変数は同じ関数内からのみアクセスできますが、グローバル変数はどこからでもアクセスできます。  \n",
        "\n",
        "以下のコードでは、関数の外でローカル変数bにアクセスしようとしているため、エラーが発生します。"
      ]
    },
    {
      "cell_type": "code",
      "metadata": {
        "id": "7KOGz1gM-m31",
        "colab": {
          "base_uri": "https://localhost:8080/"
        },
        "outputId": "8516c23d-db91-42c1-805a-4643901af287"
      },
      "source": [
        "glob_2= 123 # グローバル変数\n",
        "\n",
        "def setNum():\n",
        "    loc_2 = 456 # ローカル変数\n",
        "\n",
        "setNum()\n",
        "try:\n",
        "  print(glob_2, loc_2)\n",
        "except Exception as e:\n",
        "    ic(e)\n"
      ],
      "execution_count": 12,
      "outputs": [
        {
          "output_type": "stream",
          "name": "stderr",
          "text": [
            "ic| e: NameError(\"name 'loc_2' is not defined\")\n"
          ]
        }
      ]
    },
    {
      "cell_type": "code",
      "metadata": {
        "id": "f5wYs01szjlc"
      },
      "source": [
        "# 練習用\n"
      ],
      "execution_count": null,
      "outputs": []
    },
    {
      "cell_type": "markdown",
      "metadata": {
        "id": "zG9VcO-6-m35"
      },
      "source": [
        "## ●クラス\n",
        "**クラス**を用いると、複数の「関数のようなもの」をまとめることができます。  \n",
        "この「関数のようなもの」は、メソッドと呼ばれます。\n",
        "\n",
        "Pythonでクラスを定義するためには、`class`の表記を用います。  \n",
        "メソッドはクラス内で定義するのですが、関数と同様にdefの直後にメソッド名を記述します。    \n",
        "\n",
        "以下の例では、`Calc`クラス内に`add`メソッドが記述されています。  \n",
        "クラスから**インスタンス**を生成し、このインスタンスからメソッドを呼び出すことができます。"
      ]
    },
    {
      "cell_type": "code",
      "metadata": {
        "id": "h9YW6LdV-m36",
        "colab": {
          "base_uri": "https://localhost:8080/"
        },
        "outputId": "feb566c0-c7af-4e9d-9b8c-c21f222c8f52"
      },
      "source": [
        "class Calc:  # Calcクラス\n",
        "    def add(self, a, b):  # addメソッド\n",
        "        ic(a + b)\n",
        "\n",
        "    def multiply(self, a, b):  # multiplyメソッド\n",
        "        ic(a * b)\n",
        "\n",
        "cl = Calc()  # インスタンスclを生成\n",
        "cl.add(2, 3)\n",
        "cl.multiply(4, 5)"
      ],
      "execution_count": 14,
      "outputs": [
        {
          "output_type": "stream",
          "name": "stderr",
          "text": [
            "ic| a + b: 5\n",
            "ic| a * b: 20\n"
          ]
        }
      ]
    },
    {
      "cell_type": "code",
      "metadata": {
        "id": "s-haa7_RkFGS"
      },
      "source": [
        "# 練習用\n"
      ],
      "execution_count": null,
      "outputs": []
    },
    {
      "cell_type": "markdown",
      "metadata": {
        "id": "f83MEU1X-m38"
      },
      "source": [
        "関数とは異なり、メソッドの最初の引数はselfと書く必要があります。  \n",
        "  \n",
        "このselfを用いて、インスタンスは値を保持することができます。    \n",
        "インスタンス内で値を保持する変数を、**インスタンス変数**といいます。    \n",
        "以下の例では、`set_number`メソッドの中でインスタンス変数を設定しています。"
      ]
    },
    {
      "cell_type": "code",
      "metadata": {
        "id": "9le-T7MT-m39",
        "colab": {
          "base_uri": "https://localhost:8080/"
        },
        "outputId": "502c3b64-09a2-42c0-a66c-5321b29749a9"
      },
      "source": [
        "class Box:\n",
        "    def set_number(self, n1, n2):\n",
        "        self.num1 = n1 # num1がインスタンス変数\n",
        "        self.num2 = n2\n",
        "        \n",
        "bx = Box()\n",
        "bx.set_number(123, 456)\n",
        "\n",
        "ic(bx.num1)  # インスタンス変数の値を表示\n",
        "ic(bx.num2)\n",
        "\n",
        "bx.num1 = 999  # 値を変更\n",
        "ic(bx.num1)"
      ],
      "execution_count": 15,
      "outputs": [
        {
          "output_type": "stream",
          "name": "stderr",
          "text": [
            "ic| bx.num1: 123\n",
            "ic| bx.num2: 456\n",
            "ic| bx.num1: 999\n"
          ]
        },
        {
          "output_type": "execute_result",
          "data": {
            "text/plain": [
              "999"
            ]
          },
          "metadata": {},
          "execution_count": 15
        }
      ]
    },
    {
      "cell_type": "code",
      "metadata": {
        "id": "jHLWfjHLnefH"
      },
      "source": [
        "# 練習用\n"
      ],
      "execution_count": null,
      "outputs": []
    },
    {
      "cell_type": "markdown",
      "metadata": {
        "id": "ZHSv1Cbd-m3-"
      },
      "source": [
        "インスタンス変数は、インスタンスごとに異なる値を設定することができます。  \n",
        "以下の例では、`Dog`クラスから`dog1`、`dog2`、2つのインスタンスを生成し、インスタンス変数にそれぞれ異なる値を設定しています。  \n",
        "その上で、これらのインスタンスをリストに格納し、ループ内で値を表示します。"
      ]
    },
    {
      "cell_type": "code",
      "metadata": {
        "id": "b-oYXKYp-m3_",
        "colab": {
          "base_uri": "https://localhost:8080/"
        },
        "outputId": "e3b97ab0-f1d2-42db-f1f0-95c96327479c"
      },
      "source": [
        "class Dog:\n",
        "    def set_dog(self, n, a):\n",
        "        self.name = n\n",
        "        self.age = a\n",
        "        \n",
        "dog1 = Dog()\n",
        "dog1.set_dog(\"Pochi\", 5)\n",
        "\n",
        "dog2 = Dog()\n",
        "dog2.set_dog(\"Hachi\", 12)\n",
        "\n",
        "dogs = [dog1, dog2]  # リストに格納\n",
        "for d in dogs:\n",
        "    ic(d.name, d.age)"
      ],
      "execution_count": 16,
      "outputs": [
        {
          "output_type": "stream",
          "name": "stderr",
          "text": [
            "ic| d.name: 'Pochi', d.age: 5\n",
            "ic| d.name: 'Hachi', d.age: 12\n"
          ]
        }
      ]
    },
    {
      "cell_type": "code",
      "metadata": {
        "id": "oLVA4jq1tCM2"
      },
      "source": [
        "# 練習用\n"
      ],
      "execution_count": null,
      "outputs": []
    },
    {
      "cell_type": "markdown",
      "metadata": {
        "id": "VWXp1IvK7e45"
      },
      "source": [
        "クラスを使うことで、複雑な構造を持つ処理を簡潔に記述することが可能になります。"
      ]
    },
    {
      "cell_type": "markdown",
      "metadata": {
        "id": "iI06xAN-W94U"
      },
      "source": [
        "## ●ファイルの保存と読み込み\n",
        "with構文を用いて、ファイルの読み込みや保存を簡潔に記述することができます。  \n",
        "以下は、文字列をファイルに保存する例です。  \n",
        "保存されたファイルは、サイドバーで確認することができます。"
      ]
    },
    {
      "cell_type": "code",
      "metadata": {
        "id": "vC8DP5nV93TP"
      },
      "source": [
        "greetings = \"Good morning! Good night!\"\n",
        "\n",
        "with open(\"greetings.txt\", \"w\") as f:\n",
        "    f.write(greetings)  # ファイルに保存"
      ],
      "execution_count": 17,
      "outputs": []
    },
    {
      "cell_type": "code",
      "metadata": {
        "id": "FwhBtEkI_OBl"
      },
      "source": [
        "# 練習用\n"
      ],
      "execution_count": null,
      "outputs": []
    },
    {
      "cell_type": "markdown",
      "metadata": {
        "id": "Tjp3EXIBXsXc"
      },
      "source": [
        "以下は、上記で保存されたファイルを読み込んで表示する例です。"
      ]
    },
    {
      "cell_type": "code",
      "metadata": {
        "id": "APsIqyhbVXZb",
        "colab": {
          "base_uri": "https://localhost:8080/"
        },
        "outputId": "b57108c4-29ec-4a7f-ba99-1867b94f029f"
      },
      "source": [
        "with open(\"greetings.txt\", \"r\") as f:\n",
        "    print(f.read())  # ファイルの読み込み"
      ],
      "execution_count": 18,
      "outputs": [
        {
          "output_type": "stream",
          "name": "stdout",
          "text": [
            "Good morning! Good night!\n"
          ]
        }
      ]
    },
    {
      "cell_type": "code",
      "metadata": {
        "id": "EEvkDyzO_SXP"
      },
      "source": [
        "# 練習用\n"
      ],
      "execution_count": null,
      "outputs": []
    }
  ]
}