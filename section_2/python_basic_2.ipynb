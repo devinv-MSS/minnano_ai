{
  "nbformat": 4,
  "nbformat_minor": 0,
  "metadata": {
    "colab": {
      "name": "python_basic_2.ipynb",
      "provenance": [],
      "include_colab_link": true
    },
    "kernelspec": {
      "name": "python3",
      "display_name": "Python 3"
    }
  },
  "cells": [
    {
      "cell_type": "markdown",
      "metadata": {
        "id": "view-in-github",
        "colab_type": "text"
      },
      "source": [
        "<a href=\"https://colab.research.google.com/github/devinv-MSS/minnano_ai/blob/kamawae-udemy/section_2/python_basic_2.ipynb\" target=\"_parent\"><img src=\"https://colab.research.google.com/assets/colab-badge.svg\" alt=\"Open In Colab\"/></a>"
      ]
    },
    {
      "cell_type": "markdown",
      "metadata": {
        "id": "QK1qtAbx7DCH"
      },
      "source": [
        "# Pythonの基礎2\n",
        "リストや分岐、ループなどについて学んでいきます。"
      ]
    },
    {
      "cell_type": "code",
      "source": [
        "!pip install icecream"
      ],
      "metadata": {
        "id": "3ql0Noiqwu5i",
        "outputId": "30cd33cf-b2f6-4813-a971-165955c539e1",
        "colab": {
          "base_uri": "https://localhost:8080/"
        }
      },
      "execution_count": 1,
      "outputs": [
        {
          "output_type": "stream",
          "name": "stdout",
          "text": [
            "Looking in indexes: https://pypi.org/simple, https://us-python.pkg.dev/colab-wheels/public/simple/\n",
            "Collecting icecream\n",
            "  Downloading icecream-2.1.3-py2.py3-none-any.whl (8.4 kB)\n",
            "Requirement already satisfied: pygments>=2.2.0 in /usr/local/lib/python3.10/dist-packages (from icecream) (2.14.0)\n",
            "Collecting colorama>=0.3.9\n",
            "  Downloading colorama-0.4.6-py2.py3-none-any.whl (25 kB)\n",
            "Collecting asttokens>=2.0.1\n",
            "  Downloading asttokens-2.2.1-py2.py3-none-any.whl (26 kB)\n",
            "Collecting executing>=0.3.1\n",
            "  Downloading executing-1.2.0-py2.py3-none-any.whl (24 kB)\n",
            "Requirement already satisfied: six in /usr/local/lib/python3.10/dist-packages (from asttokens>=2.0.1->icecream) (1.16.0)\n",
            "Installing collected packages: executing, colorama, asttokens, icecream\n",
            "Successfully installed asttokens-2.2.1 colorama-0.4.6 executing-1.2.0 icecream-2.1.3\n"
          ]
        }
      ]
    },
    {
      "cell_type": "code",
      "source": [
        "from icecream import ic"
      ],
      "metadata": {
        "id": "GGAcvBEwwu7j"
      },
      "execution_count": 2,
      "outputs": []
    },
    {
      "cell_type": "markdown",
      "metadata": {
        "id": "BBT3UlBN7DCX"
      },
      "source": [
        "## ●リスト\n",
        "**リスト**は、複数の値をまとめて扱う場合に使用します。  \n",
        "リストは全体を`[]`で囲み、各要素は`,`で区切ります。  "
      ]
    },
    {
      "cell_type": "code",
      "metadata": {
        "id": "Qi_hyR077DCY",
        "colab": {
          "base_uri": "https://localhost:8080/"
        },
        "outputId": "ef65b8ff-1753-440e-f315-91ff13719682"
      },
      "source": [
        "a = [2011, 2012, 2013, 2014, 2015]  # リストの作成\n",
        "\n",
        "print(a[0])  # 先頭から0番目の要素\n",
        "print(a[1])  # 先頭から1番目の要素\n",
        "print(a[2])  # 先頭から2番目の要素"
      ],
      "execution_count": 3,
      "outputs": [
        {
          "output_type": "stream",
          "name": "stdout",
          "text": [
            "2011\n",
            "2012\n",
            "2013\n"
          ]
        }
      ]
    },
    {
      "cell_type": "code",
      "metadata": {
        "id": "8uCyuQHR_4M0"
      },
      "source": [
        "# 練習用\n"
      ],
      "execution_count": null,
      "outputs": []
    },
    {
      "cell_type": "markdown",
      "metadata": {
        "id": "FsL7GD6p_xL7"
      },
      "source": [
        "リストでは、変数名の直後に`[ ]`を記述することで各要素を取り出すことができます。   \n",
        "Pythonのリストはどのような値でも格納することができます。"
      ]
    },
    {
      "cell_type": "code",
      "metadata": {
        "id": "eQyRokhrCutm",
        "colab": {
          "base_uri": "https://localhost:8080/"
        },
        "outputId": "2dac747f-6f4a-4e63-b226-adf289bc9d44"
      },
      "source": [
        "b = 2016\n",
        "c = [b, 2017, 20.1, \"Hello\", \"Hi\"]\n",
        "print(c[1:4])  # 先頭から1番目以上、4番目未満の範囲"
      ],
      "execution_count": 4,
      "outputs": [
        {
          "output_type": "stream",
          "name": "stdout",
          "text": [
            "[2017, 20.1, 'Hello']\n"
          ]
        }
      ]
    },
    {
      "cell_type": "code",
      "metadata": {
        "id": "GCqOwdJPFAb8"
      },
      "source": [
        "# 練習用\n"
      ],
      "execution_count": null,
      "outputs": []
    },
    {
      "cell_type": "markdown",
      "metadata": {
        "id": "xTCNxy9IESfE"
      },
      "source": [
        "リストの中にリストを格納することもできます。"
      ]
    },
    {
      "cell_type": "code",
      "metadata": {
        "id": "T1cpxD79GBcu",
        "colab": {
          "base_uri": "https://localhost:8080/"
        },
        "outputId": "8e5d9ffe-4691-44db-db79-37e542a57081"
      },
      "source": [
        "d =[[2012, 2013, 2014], [2015, 2016, 2017]]\n",
        "print(d[0])  # 先頭から0番目の要素"
      ],
      "execution_count": 5,
      "outputs": [
        {
          "output_type": "stream",
          "name": "stdout",
          "text": [
            "[2012, 2013, 2014]\n"
          ]
        }
      ]
    },
    {
      "cell_type": "code",
      "metadata": {
        "id": "ScUcc8ycGXrW"
      },
      "source": [
        "# 練習用\n"
      ],
      "execution_count": null,
      "outputs": []
    },
    {
      "cell_type": "markdown",
      "metadata": {
        "id": "eF1dmMxzQK0-"
      },
      "source": [
        "リストは、作成後に要素を変更することができます。  \n",
        "また、appendにより要素を追加することができます。"
      ]
    },
    {
      "cell_type": "code",
      "metadata": {
        "id": "QqTepYh6QuMa",
        "colab": {
          "base_uri": "https://localhost:8080/"
        },
        "outputId": "bc749888-692c-46ee-bbed-316920c5b3ae"
      },
      "source": [
        "e = [\"Py\", 543.21, 79, \"thon\", [2018, 2019, 2020]]\n",
        "print(e)\n",
        "\n",
        "# 要素の変更\n",
        "e[2] = 99\n",
        "print(e)\n",
        "\n",
        "# 要素の追加\n",
        "e.append(2021)\n",
        "print(e)"
      ],
      "execution_count": 6,
      "outputs": [
        {
          "output_type": "stream",
          "name": "stdout",
          "text": [
            "['Py', 543.21, 79, 'thon', [2018, 2019, 2020]]\n",
            "['Py', 543.21, 99, 'thon', [2018, 2019, 2020]]\n",
            "['Py', 543.21, 99, 'thon', [2018, 2019, 2020], 2021]\n"
          ]
        }
      ]
    },
    {
      "cell_type": "code",
      "metadata": {
        "id": "XqeoFPxMqNwb",
        "colab": {
          "base_uri": "https://localhost:8080/"
        },
        "outputId": "af1c978a-3f61-4e3e-a31b-5154c0fd943c"
      },
      "source": [
        "# 練習用\n",
        "\n",
        "e = [\"Py\", 543.21, 79, \"thon\", [2018, 2019, 2020]]\n",
        "ic(e)\n",
        "\n",
        "# 要素の変更\n",
        "e[2] = 99\n",
        "ic(e)\n",
        "\n",
        "# 要素の追加\n",
        "e.append(2021)\n",
        "ic(e)"
      ],
      "execution_count": 7,
      "outputs": [
        {
          "output_type": "stream",
          "name": "stderr",
          "text": [
            "ic| e: ['Py', 543.21, 79, 'thon', [2018, 2019, 2020]]\n",
            "ic| e: ['Py', 543.21, 99, 'thon', [2018, 2019, 2020]]\n",
            "ic| e: ['Py', 543.21, 99, 'thon', [2018, 2019, 2020], 2021]\n"
          ]
        },
        {
          "output_type": "execute_result",
          "data": {
            "text/plain": [
              "['Py', 543.21, 99, 'thon', [2018, 2019, 2020], 2021]"
            ]
          },
          "metadata": {},
          "execution_count": 7
        }
      ]
    },
    {
      "cell_type": "markdown",
      "metadata": {
        "id": "GeQVpswkLLvU"
      },
      "source": [
        "リストにより、多くの値を効率よく扱うことが可能になります。"
      ]
    },
    {
      "cell_type": "markdown",
      "metadata": {
        "id": "33Tx-KRc7DCZ"
      },
      "source": [
        "## ●タプル\n",
        "**タプル**はリストと同じく複数の値をまとめて扱いたいときに利用しますが、要素の追加や削除、入れ替えなどはできません。  \n",
        "タプルは全体を`()`で囲み、各要素は`,`で区切ります。  \n",
        "要素を変更する予定が無い場合は、リストよりもタプルを使用する方がベターです。  \n",
        "以下では、リストとタプルを比較しています。  "
      ]
    },
    {
      "cell_type": "code",
      "metadata": {
        "id": "uMW9UFiP7DCa",
        "colab": {
          "base_uri": "https://localhost:8080/"
        },
        "outputId": "b9856c9f-59e9-4b7c-c9f0-e4f5318b93aa"
      },
      "source": [
        "a = [2012, 2013, 2014]  # リスト\n",
        "b = (2012, 2013, 2014)  # タプル\n",
        "\n",
        "print(a)\n",
        "print(b)\n",
        "\n",
        "print(a[1])\n",
        "print(b[1])\n",
        "\n",
        "a[1] = 2016\n",
        "print(a)\n",
        "\n",
        "# b[1] = 2016  # エラーが発生\n",
        "# print(b)\n",
        "\n",
        "a.append(2015)\n",
        "print(a)\n",
        "\n",
        "# b.append(2015)  # エラーが発生\n",
        "# print(b)"
      ],
      "execution_count": 8,
      "outputs": [
        {
          "output_type": "stream",
          "name": "stdout",
          "text": [
            "[2012, 2013, 2014]\n",
            "(2012, 2013, 2014)\n",
            "2013\n",
            "2013\n",
            "[2012, 2016, 2014]\n",
            "[2012, 2016, 2014, 2015]\n"
          ]
        }
      ]
    },
    {
      "cell_type": "code",
      "metadata": {
        "id": "htyvMHuSqsEf",
        "colab": {
          "base_uri": "https://localhost:8080/"
        },
        "outputId": "aa3f5eac-5315-41cb-e8cb-83b775ac1186"
      },
      "source": [
        "# 練習用\n",
        "a = [2012, 2013, 2014]  # リスト\n",
        "b = (2012, 2013, 2014)  # タプル\n",
        "\n",
        "print(a)\n",
        "print(b)\n",
        "\n",
        "print(a[1])\n",
        "print(b[1])\n",
        "\n",
        "a[1] = 2016\n",
        "print(a)\n",
        "\n",
        "# b[1] = 2016  # エラーが発生\n",
        "# print(b)\n",
        "try:\n",
        "    b[1] = 2016\n",
        "    print(b)\n",
        "except Exception as e:\n",
        "    ic(e)\n",
        "\n",
        "a.append(2015)\n",
        "print(a)\n",
        "\n",
        "# b.append(2015)  # エラーが発生\n",
        "# print(b)\n",
        "try:\n",
        "    b.append(2015) \n",
        "    print(b)\n",
        "except Exception as e:\n",
        "    ic(e)"
      ],
      "execution_count": 9,
      "outputs": [
        {
          "output_type": "stream",
          "name": "stderr",
          "text": [
            "ic| e: TypeError(\"'tuple' object does not support item assignment\")\n",
            "ic| e: AttributeError(\"'tuple' object has no attribute 'append'\")\n"
          ]
        },
        {
          "output_type": "stream",
          "name": "stdout",
          "text": [
            "[2012, 2013, 2014]\n",
            "(2012, 2013, 2014)\n",
            "2013\n",
            "2013\n",
            "[2012, 2016, 2014]\n",
            "[2012, 2016, 2014, 2015]\n"
          ]
        }
      ]
    },
    {
      "cell_type": "markdown",
      "metadata": {
        "id": "KrLdlqyL7DCc"
      },
      "source": [
        "タプルの要素を変更したり、タプルに要素を追加しようとするとエラーが発生します。"
      ]
    },
    {
      "cell_type": "markdown",
      "metadata": {
        "id": "NkynT8abLLvF"
      },
      "source": [
        "## ●辞書\n",
        "**辞書**は、キーと値の組合せでデータを格納します。　  \n",
        "以下は、Pythonの辞書を扱う例です。  \n",
        "文字列をキーとして辞書を作成し、値の取得や入れ替え、要素の追加を行なっています。"
      ]
    },
    {
      "cell_type": "code",
      "metadata": {
        "id": "_Mrxui8mLQ5P",
        "colab": {
          "base_uri": "https://localhost:8080/"
        },
        "outputId": "40462b26-f117-4cca-d968-5217c415d226"
      },
      "source": [
        "a = {\"Taro\":1985, \"Hanako\":1986}  # 辞書の作成\n",
        "print(a[\"Taro\"])   # \"Taro\"のキーを持つ値を取得\n",
        "\n",
        "a[\"Hanako\"] = 1987  # 要素の入れ替え\n",
        "print(a)\n",
        "\n",
        "a[\"Jiro\"] = 1989  # 要素の追加\n",
        "print(a)"
      ],
      "execution_count": 10,
      "outputs": [
        {
          "output_type": "stream",
          "name": "stdout",
          "text": [
            "1985\n",
            "{'Taro': 1985, 'Hanako': 1987}\n",
            "{'Taro': 1985, 'Hanako': 1987, 'Jiro': 1989}\n"
          ]
        }
      ]
    },
    {
      "cell_type": "code",
      "metadata": {
        "id": "srGuibNYsDrJ"
      },
      "source": [
        "# 練習用\n"
      ],
      "execution_count": null,
      "outputs": []
    },
    {
      "cell_type": "markdown",
      "metadata": {
        "id": "uEXLmC08sxOD"
      },
      "source": [
        "辞書は、キーを使って多数の値を管理したい際に使用します。"
      ]
    },
    {
      "cell_type": "markdown",
      "metadata": {
        "id": "vOkphdpi7DCh"
      },
      "source": [
        "## ●if文  \n",
        "**if**文により条件分岐を行うことができます。  \n",
        "ifの右側が`True`であればその次の処理が、`False`であればelseの次の処理が実行されます。  \n",
        "以下のコードは、`a`の値が5であれば足し算を行い、5でなければ掛け算を行います。  \n"
      ]
    },
    {
      "cell_type": "code",
      "metadata": {
        "id": "tubP_tFRzohW",
        "colab": {
          "base_uri": "https://localhost:8080/"
        },
        "outputId": "39045d94-3c7e-4ba0-dc20-32de55a8c383"
      },
      "source": [
        "a = 5\n",
        "\n",
        "if a == 5:  # aと5は等しいのでifの右はTrue\n",
        "    print(\"3+4=\")\n",
        "    print(3+4)\n",
        "else:\n",
        "    print(\"3×4=\")\n",
        "    print(3*4)"
      ],
      "execution_count": 11,
      "outputs": [
        {
          "output_type": "stream",
          "name": "stdout",
          "text": [
            "3+4=\n",
            "7\n"
          ]
        }
      ]
    },
    {
      "cell_type": "code",
      "metadata": {
        "id": "DEzLifnOsXl9"
      },
      "source": [
        "# 練習用\n"
      ],
      "execution_count": null,
      "outputs": []
    },
    {
      "cell_type": "markdown",
      "metadata": {
        "id": "rr_1KJ0r2Os5"
      },
      "source": [
        "分岐後の処理の行頭には、複数のスペースからなる「インデント」を挿入します。  \n",
        "インデントは通常半角スペース4つを使用します。  \n",
        "    \n",
        "3つ以上の分岐を行う際には、`elif`を使用します。  \n"
      ]
    },
    {
      "cell_type": "code",
      "metadata": {
        "id": "fod0Q-CY1k-8",
        "colab": {
          "base_uri": "https://localhost:8080/"
        },
        "outputId": "cb9a3369-4858-4ac9-906c-ef891307b7ae"
      },
      "source": [
        "b = 4\n",
        "\n",
        "if b < 3:\n",
        "    print(\"Hello!\")\n",
        "elif b < 5:  # ifの右側がFalseの場合\n",
        "    print(\"Hi!\")\n",
        "else:  # if、elifの右側がFalseの場合\n",
        "    print(\"Yeah!\")"
      ],
      "execution_count": 12,
      "outputs": [
        {
          "output_type": "stream",
          "name": "stdout",
          "text": [
            "Hi!\n"
          ]
        }
      ]
    },
    {
      "cell_type": "code",
      "metadata": {
        "id": "NzpzGvXBsnoC"
      },
      "source": [
        "# 練習用\n"
      ],
      "execution_count": null,
      "outputs": []
    },
    {
      "cell_type": "markdown",
      "metadata": {
        "id": "6bf9rfImsqRl"
      },
      "source": [
        "`elif`を並べることで、さらに多くの分岐を行うことが可能になります。"
      ]
    },
    {
      "cell_type": "code",
      "metadata": {
        "id": "mgzqzezO7DCh",
        "colab": {
          "base_uri": "https://localhost:8080/"
        },
        "outputId": "8a019f33-6611-492d-a65a-a74b3d690786"
      },
      "source": [
        "time = 20\n",
        "\n",
        "if time < 12:\n",
        "    print(\"Good morning!\")\n",
        "elif time < 17:\n",
        "    print(\"Good afternoon!\")\n",
        "elif time < 21:\n",
        "    print(\"Good evening!\")\n",
        "else:\n",
        "    print(\"Good night!\")"
      ],
      "execution_count": 13,
      "outputs": [
        {
          "output_type": "stream",
          "name": "stdout",
          "text": [
            "Good evening!\n"
          ]
        }
      ]
    },
    {
      "cell_type": "code",
      "metadata": {
        "id": "MajMrIr6uYFj"
      },
      "source": [
        "# 練習用\n"
      ],
      "execution_count": null,
      "outputs": []
    },
    {
      "cell_type": "markdown",
      "metadata": {
        "id": "4ikn14Eq7DCj"
      },
      "source": [
        "## ●for文\n",
        "**for**文を使えば、同じ処理を繰り返し実行することができます。  \n",
        "以下の例は、リストをとfor文を使ったループ処理です。  "
      ]
    },
    {
      "cell_type": "code",
      "metadata": {
        "id": "qf8iaf9V7DCj",
        "colab": {
          "base_uri": "https://localhost:8080/"
        },
        "outputId": "4a89743f-45c8-4ef2-a102-47a471256a50"
      },
      "source": [
        "a = [2001, 2002, 2003, 2004, 2005]\n",
        "for i in a:  # iにはリストaの各要素が入る\n",
        "    ic(i + 10)  # 行頭にインデントを入れる"
      ],
      "execution_count": 18,
      "outputs": [
        {
          "output_type": "stream",
          "name": "stderr",
          "text": [
            "ic| i + 10: 2011\n",
            "ic| i + 10: 2012\n",
            "ic| i + 10: 2013\n",
            "ic| i + 10: 2014\n",
            "ic| i + 10: 2015\n"
          ]
        }
      ]
    },
    {
      "cell_type": "code",
      "metadata": {
        "id": "ydtFlmi62SFw"
      },
      "source": [
        "# 練習用\n"
      ],
      "execution_count": null,
      "outputs": []
    },
    {
      "cell_type": "markdown",
      "metadata": {
        "id": "QhR-cy3d2T83"
      },
      "source": [
        "繰り返し行う処理には行頭にインデントを挿入します。  \n",
        "  \n",
        "ループ内で連番の整数を使う場合は、`range`を使用します。  \n",
        "以下の例では、`i`に0から5までの整数が入ります。  "
      ]
    },
    {
      "cell_type": "code",
      "metadata": {
        "id": "BS44zQjq2cLy",
        "colab": {
          "base_uri": "https://localhost:8080/"
        },
        "outputId": "95949b1b-f6d0-40a8-8e95-bc85ca5153ad"
      },
      "source": [
        "for i in range(0, 6):  # iには0以上6未満の整数が入る\n",
        "    ic(i * 2)"
      ],
      "execution_count": 16,
      "outputs": [
        {
          "output_type": "stream",
          "name": "stderr",
          "text": [
            "ic| i * 2: 0\n",
            "ic| i * 2: 2\n",
            "ic| i * 2: 4\n",
            "ic| i * 2: 6\n",
            "ic| i * 2: 8\n",
            "ic| i * 2: 10\n"
          ]
        }
      ]
    },
    {
      "cell_type": "code",
      "metadata": {
        "id": "d38PRmcY4C-B"
      },
      "source": [
        "# 練習用\n"
      ],
      "execution_count": null,
      "outputs": []
    },
    {
      "cell_type": "markdown",
      "metadata": {
        "id": "0vD9S7yM4Ova"
      },
      "source": [
        "for文によるループを使うことで、冗長なコードを簡潔にまとめることが可能になります。"
      ]
    },
    {
      "cell_type": "markdown",
      "metadata": {
        "id": "FKQ9lg_NFEoJ"
      },
      "source": [
        "## ●while文\n",
        "ある条件が満たされている間ループするためには、**while**文を用います。"
      ]
    },
    {
      "cell_type": "code",
      "metadata": {
        "id": "vFVOuNokFKV3",
        "colab": {
          "base_uri": "https://localhost:8080/"
        },
        "outputId": "f245da26-62b6-4d7d-c534-22dfddacec38"
      },
      "source": [
        "print(\"--- 10未満 ---\")\n",
        "a = 0\n",
        "while a < 10:  # aが10未満である間ループ\n",
        "    ic(a)\n",
        "    a += 1  # aに1を加える\n",
        "\n",
        "print(\"--- 10と等しくない ---\")\n",
        "b = 0\n",
        "while b != 10:  # bが10と等しくない限りループ\n",
        "    ic(b)\n",
        "    b += 1"
      ],
      "execution_count": 19,
      "outputs": [
        {
          "output_type": "stream",
          "name": "stderr",
          "text": [
            "ic| a: 0\n",
            "ic| a: 1\n",
            "ic| a: 2\n",
            "ic| a: 3\n",
            "ic| a: 4\n",
            "ic| a: 5\n",
            "ic| a: 6\n",
            "ic| a: 7\n",
            "ic| a: 8\n",
            "ic"
          ]
        },
        {
          "output_type": "stream",
          "name": "stdout",
          "text": [
            "--- 10未満 ---\n"
          ]
        },
        {
          "output_type": "stream",
          "name": "stderr",
          "text": [
            "| a: 9\n",
            "ic| b: 0\n",
            "ic| b: 1\n",
            "ic| b: 2\n",
            "ic| b: 3\n",
            "ic| b: 4\n",
            "ic| b: 5\n",
            "ic| b: 6\n",
            "ic| b: 7\n",
            "ic| b: 8\n",
            "ic|"
          ]
        },
        {
          "output_type": "stream",
          "name": "stdout",
          "text": [
            "--- 10と等しくない ---\n"
          ]
        },
        {
          "output_type": "stream",
          "name": "stderr",
          "text": [
            " b: 9\n"
          ]
        }
      ]
    },
    {
      "cell_type": "code",
      "metadata": {
        "id": "W94f0JFR9p3p"
      },
      "source": [
        "# 練習用\n"
      ],
      "execution_count": null,
      "outputs": []
    },
    {
      "cell_type": "markdown",
      "metadata": {
        "id": "jdyK90d_GJzn"
      },
      "source": [
        "## ●分岐とループの組み合わせ\n",
        "分岐とループを組み合わせることで、条件が満たされた処理のみをループ内で実行することが可能になります。"
      ]
    },
    {
      "cell_type": "code",
      "metadata": {
        "id": "qncEVtHrHNkM",
        "colab": {
          "base_uri": "https://localhost:8080/"
        },
        "outputId": "9c9ea6ca-e885-469d-cf3f-a899b8bbe151"
      },
      "source": [
        "a = []  # 空のリスト\n",
        "for i in range(0, 10):\n",
        "    if i%2 == 0:  # 偶数であれば\n",
        "        a.append(i)\n",
        "\n",
        "print (a)"
      ],
      "execution_count": 20,
      "outputs": [
        {
          "output_type": "stream",
          "name": "stdout",
          "text": [
            "[0, 2, 4, 6, 8]\n"
          ]
        }
      ]
    },
    {
      "cell_type": "code",
      "metadata": {
        "id": "bwW7OyfbBiKR"
      },
      "source": [
        "# 練習用\n"
      ],
      "execution_count": null,
      "outputs": []
    }
  ]
}