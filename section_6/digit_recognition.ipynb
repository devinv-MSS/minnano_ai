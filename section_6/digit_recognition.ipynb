{
  "nbformat": 4,
  "nbformat_minor": 0,
  "metadata": {
    "colab": {
      "provenance": [],
      "include_colab_link": true
    },
    "kernelspec": {
      "name": "python3",
      "display_name": "Python 3"
    }
  },
  "cells": [
    {
      "cell_type": "markdown",
      "metadata": {
        "id": "view-in-github",
        "colab_type": "text"
      },
      "source": [
        "<a href=\"https://colab.research.google.com/github/devinv-MSS/minnano_ai/blob/kamawae-udemy/section_6/digit_recognition.ipynb\" target=\"_parent\"><img src=\"https://colab.research.google.com/assets/colab-badge.svg\" alt=\"Open In Colab\"/></a>"
      ]
    },
    {
      "cell_type": "markdown",
      "metadata": {
        "id": "R_N6frOra6B1"
      },
      "source": [
        "# 手書き文字の認識\n",
        "scikit-learnを使って手書き文字の認識を行います。  \n",
        "今回は、0-9までの手書き数字データを使ってサポートベクターマシンを訓練し、未知の手書き文字画像の分類を行います。  "
      ]
    },
    {
      "cell_type": "code",
      "source": [
        "!pip install icecream"
      ],
      "metadata": {
        "id": "BwUVSmDDN-NY",
        "outputId": "57e301c6-047b-4065-811d-d2c81b07a9ed",
        "colab": {
          "base_uri": "https://localhost:8080/"
        }
      },
      "execution_count": 1,
      "outputs": [
        {
          "output_type": "stream",
          "name": "stdout",
          "text": [
            "Looking in indexes: https://pypi.org/simple, https://us-python.pkg.dev/colab-wheels/public/simple/\n",
            "Collecting icecream\n",
            "  Downloading icecream-2.1.3-py2.py3-none-any.whl (8.4 kB)\n",
            "Collecting colorama>=0.3.9\n",
            "  Downloading colorama-0.4.6-py2.py3-none-any.whl (25 kB)\n",
            "Collecting asttokens>=2.0.1\n",
            "  Downloading asttokens-2.2.1-py2.py3-none-any.whl (26 kB)\n",
            "Collecting executing>=0.3.1\n",
            "  Downloading executing-1.2.0-py2.py3-none-any.whl (24 kB)\n",
            "Requirement already satisfied: pygments>=2.2.0 in /usr/local/lib/python3.10/dist-packages (from icecream) (2.14.0)\n",
            "Requirement already satisfied: six in /usr/local/lib/python3.10/dist-packages (from asttokens>=2.0.1->icecream) (1.16.0)\n",
            "Installing collected packages: executing, colorama, asttokens, icecream\n",
            "Successfully installed asttokens-2.2.1 colorama-0.4.6 executing-1.2.0 icecream-2.1.3\n"
          ]
        }
      ]
    },
    {
      "cell_type": "code",
      "source": [
        "from icecream import ic"
      ],
      "metadata": {
        "id": "WO2qRHScN-Ri"
      },
      "execution_count": 2,
      "outputs": []
    },
    {
      "cell_type": "markdown",
      "metadata": {
        "id": "D0kwjLG6dr18"
      },
      "source": [
        "## ● 手書き数字データ\n",
        "手書き文字のデータセットですが、今回もscikit-learnのdatasetsから入手します。  \n",
        "このデータセットには、0から9までの手書き数字の画像が多数含まれています。  \n",
        "また、それらの画像がどの数値を表しているのか示すラベルも一緒になっています。  \n",
        "以下は、scikit-learnのdatasetsから手書き文字のデータセットを取得し、画像データの形状及び最初の画像を表示するコードです。  \n",
        "画像のサイズは8x8ピクセルで、1797枚あります。  "
      ]
    },
    {
      "cell_type": "code",
      "metadata": {
        "id": "PORSPMy29MAr",
        "outputId": "e8810472-5b54-4cca-c7d2-741fc4d2deb6",
        "colab": {
          "base_uri": "https://localhost:8080/",
          "height": 703
        }
      },
      "source": [
        "from sklearn import datasets\n",
        "from sklearn import svm\n",
        "import matplotlib.pyplot as plt\n",
        "\n",
        "# 数字画像データの読み込み\n",
        "digits = datasets.load_digits()\n",
        "\n",
        "ic(\"--- 画像データ ---\")\n",
        "ic(digits.images[0])\n",
        "ic(digits.images.shape)\n",
        "ic(\"--- 1次元画像データ ---\")\n",
        "ic(digits.data[0])\n",
        "ic(digits.data.shape)\n",
        "ic(\"--- ラベル ---\")\n",
        "ic(digits.target)\n",
        "ic(digits.target.shape)\n",
        "\n",
        "# 画像と正解値の表示\n",
        "images = digits.images\n",
        "labels = digits.target\n",
        "for i in range(10):\n",
        "    plt.subplot(2, 5, i + 1)  # 2行5列、i+1の位置\n",
        "    plt.imshow(images[i], cmap=\"Greys\")\n",
        "    plt.axis(\"off\")\n",
        "    plt.title(\"Label: \" +  str(labels[i]))\n",
        "plt.show()"
      ],
      "execution_count": 3,
      "outputs": [
        {
          "output_type": "stream",
          "name": "stderr",
          "text": [
            "ic| '--- 画像データ ---'\n",
            "ic| digits.images[0]: array([[ 0.,  0.,  5., 13.,  9.,  1.,  0.,  0.],\n",
            "                             [ 0.,  0., 13., 15., 10., 15.,  5.,  0.],\n",
            "                             [ 0.,  3., 15.,  2.,  0., 11.,  8.,  0.],\n",
            "                             [ 0.,  4., 12.,  0.,  0.,  8.,  8.,  0.],\n",
            "                             [ 0.,  5.,  8.,  0.,  0.,  9.,  8.,  0.],\n",
            "                             [ 0.,  4., 11.,  0.,  1., 12.,  7.,  0.],\n",
            "                             [ 0.,  2., 14.,  5., 10., 12.,  0.,  0.],\n",
            "                             [ 0.,  0.,  6., 13., 10.,  0.,  0.,  0.]])\n",
            "ic| digits.images.shape: (1797, 8, 8)\n",
            "ic| '--- 1次元画像データ ---'\n",
            "ic| digits.data[0]: array([ 0.,  0.,  5., 13.,  9.,  1.,  0.,  0.,  0.,  0., 13., 15., 10.,\n",
            "                           15.,  5.,  0.,  0.,  3., 15.,  2.,  0., 11.,  8.,  0.,  0.,  4.,\n",
            "                           12.,  0.,  0.,  8.,  8.,  0.,  0.,  5.,  8.,  0.,  0.,  9.,  8.,\n",
            "                            0.,  0.,  4., 11.,  0.,  1., 12.,  7.,  0.,  0.,  2., 14.,  5.,\n",
            "                           10., 12.,  0.,  0.,  0.,  0.,  6., 13., 10.,  0.,  0.,  0.])\n",
            "ic| digits.data.shape: (1797, 64)\n",
            "ic| '--- ラベル ---'\n",
            "ic| digits.target: array([0, 1, 2, ..., 8, 9, 8])\n",
            "ic| digits.target.shape: (1797,)\n"
          ]
        },
        {
          "output_type": "display_data",
          "data": {
            "text/plain": [
              "<Figure size 640x480 with 10 Axes>"
            ],
            "image/png": "[encoded data removed]"
          },
          "metadata": {}
        }
      ]
    },
    {
      "cell_type": "code",
      "metadata": {
        "id": "R0vglTuDKp2X"
      },
      "source": [
        "# コード練習用\n"
      ],
      "execution_count": null,
      "outputs": []
    },
    {
      "cell_type": "markdown",
      "metadata": {
        "id": "gQ9MgHBcha6I"
      },
      "source": [
        "## ● 手書き数字の分類\n",
        "手書き数字のデータを使ってサポートベクターマシンを訓練し、未知の手書き文字を分類します。  \n",
        "データ全体を`train_test_split`を使って訓練データとテストデータに分割します。  \n",
        "そして、訓練用データを使ってサポートベクターマシンを訓練し、テストデータはこの性能を測るための未知のデータとします。  \n",
        "\n"
      ]
    },
    {
      "cell_type": "code",
      "metadata": {
        "id": "ZV3H7t9iBdmR",
        "outputId": "43581f08-c8d4-4435-e639-1298717f2efe",
        "colab": {
          "base_uri": "https://localhost:8080/",
          "height": 1000
        }
      },
      "source": [
        "from sklearn import datasets\n",
        "from sklearn import svm\n",
        "from sklearn.model_selection import train_test_split\n",
        "from sklearn import metrics\n",
        "import matplotlib.pyplot as plt\n",
        "\n",
        "# 訓練データとテストデータに分割\n",
        "digits = datasets.load_digits()\n",
        "x_train, x_test, t_train, t_test = train_test_split(digits.data, digits.target)  # 25％がテストデータ\n",
        "\n",
        "clf = svm.SVC()  # サポートベクターマシーン\n",
        "clf.fit(x_train, t_train)  # 訓練\n",
        "\n",
        "y_test = clf.predict(x_test)  # テストデータで予測\n",
        "ic(metrics.classification_report(t_test, y_test))  # 正解率など\n",
        "ic(metrics.confusion_matrix(t_test, y_test))  # 行:正解、列:予測\n",
        "\n",
        "# 予測結果と画像の対応\n",
        "images = digits.images[:10]  # 最初の10枚\n",
        "y_10 = clf.predict(digits.data[:10])\n",
        "for i in range(10):\n",
        "    plt.subplot(2, 5, i + 1)  # 2行5列、i+1の位置\n",
        "    plt.imshow(images[i], cmap=\"Greys\")\n",
        "    plt.axis(\"off\")\n",
        "    plt.title(\"Gues: \" +  str(y_10[i]))\n",
        "plt.show()"
      ],
      "execution_count": 4,
      "outputs": [
        {
          "output_type": "stream",
          "name": "stderr",
          "text": [
            "ic| metrics.classification_report(t_test, y_test): ('              precision    recall  f1-score   support\n",
            "                                                   '\n",
            "                                                    '\n",
            "                                                   '\n",
            "                                                    '           0       1.00      1.00      1.00        44\n",
            "                                                   '\n",
            "                                                    '           1       0.96      1.00      0.98        51\n",
            "                                                   '\n",
            "                                                    '           2       1.00      1.00      1.00        40\n",
            "                                                   '\n",
            "                                                    '           3       1.00      0.98      0.99        41\n",
            "                                                   '\n",
            "                                                    '           4       1.00      0.98      0.99        46\n",
            "                                                   '\n",
            "                                                    '           5       1.00      1.00      1.00        49\n",
            "                                                   '\n",
            "                                                    '           6       1.00      1.00      1.00        36\n",
            "                                                   '\n",
            "                                                    '           7       0.98      0.98      0.98        45\n",
            "                                                   '\n",
            "                                                    '           8       1.00      0.96      0.98        57\n",
            "                                                   '\n",
            "                                                    '           9       0.95      1.00      0.98        41\n",
            "                                                   '\n",
            "                                                    '\n",
            "                                                   '\n",
            "                                                    '    accuracy                           0.99       450\n",
            "                                                   '\n",
            "                                                    '   macro avg       0.99      0.99      0.99       450\n",
            "                                                   '\n",
            "                                                    'weighted avg       0.99      0.99      0.99       450\n",
            "                                                   ')\n",
            "ic| metrics.confusion_matrix(t_test, y_test): array([[44,  0,  0,  0,  0,  0,  0,  0,  0,  0],\n",
            "                                                     [ 0, 51,  0,  0,  0,  0,  0,  0,  0,  0],\n",
            "                                                     [ 0,  0, 40,  0,  0,  0,  0,  0,  0,  0],\n",
            "                                                     [ 0,  0,  0, 40,  0,  0,  0,  1,  0,  0],\n",
            "                                                     [ 0,  0,  0,  0, 45,  0,  0,  0,  0,  1],\n",
            "                                                     [ 0,  0,  0,  0,  0, 49,  0,  0,  0,  0],\n",
            "                                                     [ 0,  0,  0,  0,  0,  0, 36,  0,  0,  0],\n",
            "                                                     [ 0,  0,  0,  0,  0,  0,  0, 44,  0,  1],\n",
            "                                                     [ 0,  2,  0,  0,  0,  0,  0,  0, 55,  0],\n",
            "                                                     [ 0,  0,  0,  0,  0,  0,  0,  0,  0, 41]])\n"
          ]
        },
        {
          "output_type": "display_data",
          "data": {
            "text/plain": [
              "<Figure size 640x480 with 10 Axes>"
            ],
            "image/png": "[encoded data removed]"
          },
          "metadata": {}
        }
      ]
    },
    {
      "cell_type": "code",
      "metadata": {
        "id": "zTdrDkYa9QeM"
      },
      "source": [
        "# コード練習用\n"
      ],
      "execution_count": null,
      "outputs": []
    }
  ]
}