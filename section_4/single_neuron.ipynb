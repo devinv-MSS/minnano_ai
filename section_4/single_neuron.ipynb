{
  "nbformat": 4,
  "nbformat_minor": 0,
  "metadata": {
    "colab": {
      "name": "single_neuron.ipynb",
      "provenance": [],
      "include_colab_link": true
    },
    "kernelspec": {
      "name": "python3",
      "display_name": "Python 3"
    }
  },
  "cells": [
    {
      "cell_type": "markdown",
      "metadata": {
        "id": "view-in-github",
        "colab_type": "text"
      },
      "source": [
        "<a href=\"https://colab.research.google.com/github/devinv-MSS/minnano_ai/blob/kamawae-udemy/section_4/single_neuron.ipynb\" target=\"_parent\"><img src=\"https://colab.research.google.com/assets/colab-badge.svg\" alt=\"Open In Colab\"/></a>"
      ]
    },
    {
      "cell_type": "markdown",
      "metadata": {
        "id": "9BKL6OQk9qEa"
      },
      "source": [
        "# 単一ニューロンの実装\n",
        "通常ニューラルネットワークは多数のニューロンで構成されますが、今回はニューロンが1つしかないとてもシンプルなニューラルネットワークを実装します。  \n",
        "コードを書きながら、ニューロン内部の仕組みを把握していきましょう。"
      ]
    },
    {
      "cell_type": "code",
      "source": [
        "!pip install icecream"
      ],
      "metadata": {
        "id": "l7-hsJLeJlfN",
        "outputId": "227564df-33fd-4301-aa71-65aa17ab692a",
        "colab": {
          "base_uri": "https://localhost:8080/"
        }
      },
      "execution_count": 1,
      "outputs": [
        {
          "output_type": "stream",
          "name": "stdout",
          "text": [
            "Looking in indexes: https://pypi.org/simple, https://us-python.pkg.dev/colab-wheels/public/simple/\n",
            "Collecting icecream\n",
            "  Downloading icecream-2.1.3-py2.py3-none-any.whl (8.4 kB)\n",
            "Collecting asttokens>=2.0.1\n",
            "  Downloading asttokens-2.2.1-py2.py3-none-any.whl (26 kB)\n",
            "Requirement already satisfied: pygments>=2.2.0 in /usr/local/lib/python3.10/dist-packages (from icecream) (2.14.0)\n",
            "Collecting executing>=0.3.1\n",
            "  Downloading executing-1.2.0-py2.py3-none-any.whl (24 kB)\n",
            "Collecting colorama>=0.3.9\n",
            "  Downloading colorama-0.4.6-py2.py3-none-any.whl (25 kB)\n",
            "Requirement already satisfied: six in /usr/local/lib/python3.10/dist-packages (from asttokens>=2.0.1->icecream) (1.16.0)\n",
            "Installing collected packages: executing, colorama, asttokens, icecream\n",
            "Successfully installed asttokens-2.2.1 colorama-0.4.6 executing-1.2.0 icecream-2.1.3\n"
          ]
        }
      ]
    },
    {
      "cell_type": "code",
      "source": [
        "from icecream import ic"
      ],
      "metadata": {
        "id": "UgHouIboJliA"
      },
      "execution_count": 2,
      "outputs": []
    },
    {
      "cell_type": "markdown",
      "metadata": {
        "id": "jW1Im1d-DaG8"
      },
      "source": [
        "## ● ニューロンへの入力\n",
        "以下のセルで、ニューロン及びニューラルネットワークをクラスとして実装します。  \n",
        "ニューラルネットワークは複数の入力を受け取り、内部のニューロンにその値を渡します。  \n",
        "今回はまだ、ニューロンは受け取った値を足し合わて表示するのみです。  \n",
        "`__init__`はインスタンスの生成時に実行される特殊なメソッドで、初期設定のためによく使われます。"
      ]
    },
    {
      "cell_type": "code",
      "metadata": {
        "id": "jRSFgmgzIcP6",
        "colab": {
          "base_uri": "https://localhost:8080/"
        },
        "outputId": "35091560-b2a7-4791-a36b-cc116f73d331"
      },
      "source": [
        "# ニューロン\n",
        "class Neuron:\n",
        "    def __init__(self):  # 初期設定\n",
        "        self.input_sum = 0.0\n",
        "\n",
        "    def set_input(self, inp):\n",
        "        self.input_sum += inp\n",
        "        ic(self.input_sum)\n",
        "\n",
        "# ニューラルネットワーク\n",
        "class NeuralNetwork:\n",
        "    def __init__(self):  # 初期設定\n",
        "        self.neuron = Neuron()  #ニューロンのインスタンス\n",
        "\n",
        "    def commit(self, input_data):  # 実行\n",
        "        for data in input_data:\n",
        "            self.neuron.set_input(data)\n",
        "\n",
        "# ニューラルネットワークのインスタンス\n",
        "neural_network = NeuralNetwork()\n",
        "\n",
        "# 実行\n",
        "input_data = [1.0, 2.0, 3.0]\n",
        "neural_network.commit(input_data)"
      ],
      "execution_count": 3,
      "outputs": [
        {
          "output_type": "stream",
          "name": "stderr",
          "text": [
            "ic| self.input_sum: 1.0\n",
            "ic| self.input_sum: 3.0\n",
            "ic| self.input_sum: 6.0\n"
          ]
        }
      ]
    },
    {
      "cell_type": "code",
      "metadata": {
        "id": "5zJZQGcLYVCq"
      },
      "source": [
        "# コード練習用\n"
      ],
      "execution_count": null,
      "outputs": []
    },
    {
      "cell_type": "markdown",
      "metadata": {
        "id": "wKnGD8g4YYGj"
      },
      "source": [
        "## ● ニューロンからの出力\n",
        "入力はニューロンの内部で処理され、出力となります。  \n",
        "ニューロンからの出力は、ニューラルネットワークの出力となります。\n"
      ]
    },
    {
      "cell_type": "code",
      "metadata": {
        "id": "MARHVC7JIndu",
        "colab": {
          "base_uri": "https://localhost:8080/"
        },
        "outputId": "c799959e-25eb-48c8-a02f-4dc1a30d1ab5"
      },
      "source": [
        "# ニューロン\n",
        "class Neuron:\n",
        "    def __init__(self):  # 初期設定\n",
        "        self.input_sum = 0.0\n",
        "        self.output = 0.0\n",
        "\n",
        "    def set_input(self, inp):\n",
        "        self.input_sum += inp\n",
        "\n",
        "    def get_output(self):\n",
        "        self.output = self.input_sum\n",
        "        return self.output\n",
        "\n",
        "# ニューラルネットワーク\n",
        "class NeuralNetwork:\n",
        "    def __init__(self):  # 初期設定\n",
        "        self.neuron = Neuron()  #ニューロンのインスタンス\n",
        "\n",
        "    def commit(self, input_data):  # 実行\n",
        "        for data in input_data:\n",
        "            self.neuron.set_input(data)\n",
        "        return self.neuron.get_output()\n",
        "\n",
        "# ニューラルネットワークのインスタンス\n",
        "neural_network = NeuralNetwork()\n",
        "\n",
        "# 実行\n",
        "input_data = [1.0, 2.0, 3.0]\n",
        "ic(neural_network.commit(input_data))"
      ],
      "execution_count": 4,
      "outputs": [
        {
          "output_type": "stream",
          "name": "stderr",
          "text": [
            "ic| neural_network.commit(input_data): 6.0\n"
          ]
        },
        {
          "output_type": "execute_result",
          "data": {
            "text/plain": [
              "6.0"
            ]
          },
          "metadata": {},
          "execution_count": 4
        }
      ]
    },
    {
      "cell_type": "code",
      "metadata": {
        "id": "qYViLX3gh_oS"
      },
      "source": [
        "# コード練習用\n"
      ],
      "execution_count": 7,
      "outputs": []
    },
    {
      "cell_type": "markdown",
      "metadata": {
        "id": "4wdgaDGgh8_i"
      },
      "source": [
        "## ● 活性化関数の導入\n",
        "活性化関数として、シグモイド関数を導入します。  \n",
        "シグモイド関数に入力の総和を入れることで、0から1の範囲の出力を得ることができます。"
      ]
    },
    {
      "cell_type": "code",
      "metadata": {
        "id": "_KvFf2spJIye",
        "colab": {
          "base_uri": "https://localhost:8080/"
        },
        "outputId": "aa6f9aab-97fe-406b-a595-5af84dff59f6"
      },
      "source": [
        "import numpy as np\n",
        "\n",
        "# シグモイド関数\n",
        "def sigmoid(x):\n",
        "    return 1.0 / (1.0 + np.exp(-x))\n",
        "\n",
        "# ニューロン\n",
        "class Neuron:\n",
        "    def __init__(self):  # 初期設定\n",
        "        self.input_sum = 0.0\n",
        "        self.output = 0.0\n",
        "\n",
        "    def set_input(self, inp):\n",
        "        self.input_sum += inp\n",
        "        ic(self.input_sum)\n",
        "\n",
        "    def get_output(self):\n",
        "        self.output = sigmoid(self.input_sum)\n",
        "        return self.output\n",
        "\n",
        "# ニューラルネットワーク\n",
        "class NeuralNetwork:\n",
        "    def __init__(self):  # 初期設定\n",
        "        self.neuron = Neuron()  #ニューロンのインスタンス\n",
        "\n",
        "    def commit(self, input_data):  # 実行\n",
        "        for data in input_data:\n",
        "            self.neuron.set_input(data)\n",
        "        return self.neuron.get_output()\n",
        "\n",
        "# ニューラルネットワークのインスタンス\n",
        "neural_network = NeuralNetwork()\n",
        "\n",
        "# 実行\n",
        "input_data = [1.0, 2.0, 3.0]\n",
        "ic(neural_network.commit(input_data))"
      ],
      "execution_count": 9,
      "outputs": [
        {
          "output_type": "stream",
          "name": "stderr",
          "text": [
            "ic| self.input_sum: 1.0\n",
            "ic| self.input_sum: 3.0\n",
            "ic| self.input_sum: 6.0\n",
            "ic| neural_network.commit(input_data): 0.9975273768433653\n"
          ]
        },
        {
          "output_type": "execute_result",
          "data": {
            "text/plain": [
              "0.9975273768433653"
            ]
          },
          "metadata": {},
          "execution_count": 9
        }
      ]
    },
    {
      "cell_type": "code",
      "metadata": {
        "id": "b-oTytWfiom6"
      },
      "source": [
        "# コード練習用\n"
      ],
      "execution_count": null,
      "outputs": []
    },
    {
      "cell_type": "markdown",
      "metadata": {
        "id": "mae1n4G5ipXI"
      },
      "source": [
        "## ● 重みの導入\n",
        "入力の影響度を調整するための「重み」を導入します。  \n",
        "入力と重みの積の総和を、活性化関数の入力とします。  "
      ]
    },
    {
      "cell_type": "code",
      "metadata": {
        "id": "MuD2c59OJJyS",
        "colab": {
          "base_uri": "https://localhost:8080/"
        },
        "outputId": "4160dc2b-9e60-4f1b-c60e-8eb3f6e264d7"
      },
      "source": [
        "import numpy as np\n",
        "\n",
        "# シグモイド関数\n",
        "def sigmoid(x):\n",
        "    return 1.0 / (1.0 + np.exp(-x))\n",
        "\n",
        "# ニューロン\n",
        "class Neuron:\n",
        "    def __init__(self):  # 初期設定\n",
        "        self.input_sum = 0.0\n",
        "        self.output = 0.0\n",
        "\n",
        "    def set_input(self, inp):\n",
        "        self.input_sum += inp\n",
        "\n",
        "    def get_output(self):\n",
        "        self.output = sigmoid(self.input_sum)\n",
        "        ic(self.output)\n",
        "        return self.output\n",
        "\n",
        "# ニューラルネットワーク\n",
        "class NeuralNetwork:\n",
        "    def __init__(self):  # 初期設定\n",
        "        self.neuron = Neuron()  #ニューロンのインスタンス\n",
        "        self.w = [1.5, 0.75, -1.0]\n",
        "\n",
        "    def commit(self, input_data):  # 実行\n",
        "        self.neuron.set_input(input_data[0] * self.w[0])\n",
        "        self.neuron.set_input(input_data[1] * self.w[1])\n",
        "        self.neuron.set_input(input_data[2] * self.w[2])\n",
        "        return self.neuron.get_output()\n",
        "\n",
        "# ニューラルネットワークのインスタンス\n",
        "neural_network = NeuralNetwork()\n",
        "\n",
        "# 実行\n",
        "input_data = [1.0, 2.0, 3.0]\n",
        "ic(neural_network.commit(input_data))"
      ],
      "execution_count": 10,
      "outputs": [
        {
          "output_type": "stream",
          "name": "stderr",
          "text": [
            "ic| self.output: 0.5\n",
            "ic| neural_network.commit(input_data): 0.5\n"
          ]
        },
        {
          "output_type": "execute_result",
          "data": {
            "text/plain": [
              "0.5"
            ]
          },
          "metadata": {},
          "execution_count": 10
        }
      ]
    },
    {
      "cell_type": "code",
      "metadata": {
        "id": "SmyluuvmiqaE"
      },
      "source": [
        "# コード練習用\n"
      ],
      "execution_count": null,
      "outputs": []
    },
    {
      "cell_type": "markdown",
      "metadata": {
        "id": "jm3-zhsz7ZwR"
      },
      "source": [
        "## ● バイアスの導入\n",
        "バイアスを導入し、ニューロンの感度を調節します。  \n",
        "入力と重みの積にバイアスを加え、活性化関数の入力とします。  "
      ]
    },
    {
      "cell_type": "code",
      "metadata": {
        "id": "LIzdG42q7cea",
        "colab": {
          "base_uri": "https://localhost:8080/"
        },
        "outputId": "8dec8774-bce8-4686-c75f-c053ade030ec"
      },
      "source": [
        "import numpy as np\n",
        "\n",
        "# シグモイド関数\n",
        "def sigmoid(x):\n",
        "    return 1.0 / (1.0 + np.exp(-x))\n",
        "\n",
        "# ニューロン\n",
        "class Neuron:\n",
        "    def __init__(self):  # 初期設定\n",
        "        self.input_sum = 0.0\n",
        "        self.output = 0.0\n",
        "\n",
        "    def set_input(self, inp):\n",
        "        self.input_sum += inp\n",
        "\n",
        "    def get_output(self):\n",
        "        self.output = sigmoid(self.input_sum)\n",
        "        return self.output\n",
        "\n",
        "# ニューラルネットワーク\n",
        "class NeuralNetwork:\n",
        "    def __init__(self):  # 初期設定\n",
        "        self.neuron = Neuron()  #ニューロンのインスタンス\n",
        "        self.w = [1.5, 0.75, -1.0]\n",
        "        self.bias = 1.0\n",
        "\n",
        "    def commit(self, input_data):  # 実行\n",
        "        self.neuron.set_input(input_data[0] * self.w[0])\n",
        "        self.neuron.set_input(input_data[1] * self.w[1])\n",
        "        self.neuron.set_input(input_data[2] * self.w[2])\n",
        "        self.neuron.set_input(self.bias)\n",
        "        return self.neuron.get_output()\n",
        "\n",
        "# ニューラルネットワークのインスタンス\n",
        "neural_network = NeuralNetwork()\n",
        "\n",
        "# 実行\n",
        "input_data = [1.0, 2.0, 3.0]\n",
        "ic(neural_network.commit(input_data))"
      ],
      "execution_count": 11,
      "outputs": [
        {
          "output_type": "stream",
          "name": "stderr",
          "text": [
            "ic| neural_network.commit(input_data): 0.7310585786300049\n"
          ]
        },
        {
          "output_type": "execute_result",
          "data": {
            "text/plain": [
              "0.7310585786300049"
            ]
          },
          "metadata": {},
          "execution_count": 11
        }
      ]
    },
    {
      "cell_type": "code",
      "metadata": {
        "id": "1fgjPQl77dXK"
      },
      "source": [
        "# コード練習用\n"
      ],
      "execution_count": null,
      "outputs": []
    }
  ]
}